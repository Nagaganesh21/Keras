{
 "cells": [
  {
   "cell_type": "markdown",
   "metadata": {},
   "source": [
    "## Overview"
   ]
  },
  {
   "cell_type": "markdown",
   "metadata": {},
   "source": [
    "The standard algorithm to train neural networks is stochastic gradient descent.  Increased performance and faster training\n",
    "may be achieved by using a learning rate that changes during training."
   ]
  },
  {
   "cell_type": "markdown",
   "metadata": {},
   "source": [
    "### Adaptive learning rates"
   ]
  },
  {
   "cell_type": "markdown",
   "metadata": {},
   "source": [
    "The simplest and perhaps most used adaptation of learning rates during training are techniques \n",
    "that reduce the learning rate over time. These have the benefit of making large changes at the \n",
    "beginning of the training procedure when larger learning rate values are used, and decreasing \n",
    "the learning rate such that a smaller rate and therefore smaller training updates are made to \n",
    "weights later in the training procedure. This has the effect of quickly learning good weights \n",
    "early and fine tuning them later.  Two of the most popular techniques used are:\n",
    "- Decrease the learning rate based on the epoch\n",
    "- Decrease the learning rate using the punctuated large drops at specific epochs"
   ]
  },
  {
   "cell_type": "code",
   "execution_count": 9,
   "metadata": {},
   "outputs": [],
   "source": [
    "import pandas as pd\n",
    "import numpy as np\n",
    "import math\n",
    "from keras.models import Sequential\n",
    "from keras.layers import Dense\n",
    "from keras.optimizers import SGD\n",
    "from sklearn.preprocessing import LabelEncoder\n",
    "import matplotlib.pyplot as plt\n",
    "from keras.callbacks import LearningRateScheduler"
   ]
  },
  {
   "cell_type": "markdown",
   "metadata": {},
   "source": [
    "### Test Dataset\n",
    "\n",
    "Test datset used is the Ionosphere binary classification dataset from the well know UCI Machine Learning Repo.  \n",
    " - http://archive.ics.uci.edu/ml/machine-learning-databases/ionosphere/ionosphere.data\n",
    "\n",
    "The dataset describes radar returns where the target was free electrons in the ionosphere. It is a binary classification problem where positive cases (g for good) show evidence of some type of structure in the ionosphere and negative cases (b for bad) do not. There are 34 attributes and 351 observations."
   ]
  },
  {
   "cell_type": "code",
   "execution_count": 2,
   "metadata": {
    "collapsed": true
   },
   "outputs": [],
   "source": [
    "seed = 7\n",
    "np.random.seed(7)\n",
    "\n",
    "url = (\"http://archive.ics.uci.edu/ml/machine-learning-databases/ionosphere/ionosphere.data\")\n",
    "dataset = pd.read_csv(url, header=None, prefix='V')\n",
    "\n",
    "dataset.head()\n",
    "\n",
    "X = np.array(dataset.iloc[:, 0:34])\n",
    "y = np.array(dataset.iloc[:, 34])"
   ]
  },
  {
   "cell_type": "markdown",
   "metadata": {},
   "source": [
    "### Adaptive rate schedule\n",
    "\n",
    "The stochastic gradient descent algorithm in Keras *SGD* has a built in decay argument.  This argument is used as:\n",
    "\n",
    "$$\\begin{eqnarray}\n",
    "Learning Rate = Learning Rate \\times \\frac{1}{1+decay \\times epoch}  \n",
    "\\end{eqnarray}$$\n",
    "\n",
    "Extending this to 100 epochs would produce the output shown below:"
   ]
  },
  {
   "cell_type": "code",
   "execution_count": 3,
   "metadata": {
    "collapsed": true
   },
   "outputs": [],
   "source": [
    "def gen_plot(ans,lim):\n",
    "    prev = 0.1\n",
    "    for n in range(0,lim):\n",
    "        ans[n] = prev * 1/(1+0.001*(n+1))\n",
    "        prev = ans[n]\n",
    "    return ans"
   ]
  },
  {
   "cell_type": "code",
   "execution_count": 4,
   "metadata": {},
   "outputs": [
    {
     "data": {
      "image/png": "[encoded data removed]",
      "text/plain": [
       "<matplotlib.figure.Figure at 0x11eeb79e8>"
      ]
     },
     "metadata": {},
     "output_type": "display_data"
    }
   ],
   "source": [
    "epoch = [n for n in range(1,100)]\n",
    "ans = [0 for n in range(1,100)] \n",
    "ans = gen_plot(ans,len(epoch))    \n",
    "plt.plot(epoch,ans)\n",
    "plt.ylabel('Learning Rate')\n",
    "plt.xlabel('epochs')\n",
    "plt.title('Learning Rate vs epoch')\n",
    "plt.show()"
   ]
  },
  {
   "cell_type": "markdown",
   "metadata": {
    "collapsed": true
   },
   "source": [
    "A small neural network model is constructed below with a single hidden layer with 34 neurons\n",
    "and using the rectifier activation function. The output layer has a single neuron and uses the\n",
    "sigmoid activation function in order to output probability-like values. The learning rate for\n",
    "stochastic gradient descent has been set to a higher value of 0.1. The model is trained for 50\n",
    "epochs and the decay argument has been set to LearningRate/Epochs, calculated as 0.1/50. Also it can \n",
    "be a good idea to use momentum when using an adaptive learning rate. Here use a momentum value of 0.8."
   ]
  },
  {
   "cell_type": "code",
   "execution_count": 5,
   "metadata": {},
   "outputs": [
    {
     "name": "stdout",
     "output_type": "stream",
     "text": [
      "Train on 235 samples, validate on 116 samples\n",
      "Epoch 1/50\n",
      " - 0s - loss: 0.6813 - acc: 0.6468 - val_loss: 0.6380 - val_acc: 0.8621\n",
      "Epoch 2/50\n",
      " - 0s - loss: 0.6367 - acc: 0.7319 - val_loss: 0.5265 - val_acc: 0.8276\n",
      "Epoch 3/50\n",
      " - 0s - loss: 0.5571 - acc: 0.8213 - val_loss: 0.4758 - val_acc: 0.8362\n",
      "Epoch 4/50\n",
      " - 0s - loss: 0.4666 - acc: 0.8340 - val_loss: 0.4405 - val_acc: 0.9310\n",
      "Epoch 5/50\n",
      " - 0s - loss: 0.3836 - acc: 0.8681 - val_loss: 0.2768 - val_acc: 0.9483\n",
      "Epoch 6/50\n",
      " - 0s - loss: 0.3156 - acc: 0.8851 - val_loss: 0.3979 - val_acc: 0.8879\n",
      "Epoch 7/50\n",
      " - 0s - loss: 0.2763 - acc: 0.9064 - val_loss: 0.2241 - val_acc: 0.9483\n",
      "Epoch 8/50\n",
      " - 0s - loss: 0.2407 - acc: 0.9106 - val_loss: 0.1432 - val_acc: 0.9569\n",
      "Epoch 9/50\n",
      " - 0s - loss: 0.2439 - acc: 0.9149 - val_loss: 0.2187 - val_acc: 0.9483\n",
      "Epoch 10/50\n",
      " - 0s - loss: 0.2020 - acc: 0.9149 - val_loss: 0.2547 - val_acc: 0.9224\n",
      "Epoch 11/50\n",
      " - 0s - loss: 0.1912 - acc: 0.9277 - val_loss: 0.1950 - val_acc: 0.9397\n",
      "Epoch 12/50\n",
      " - 0s - loss: 0.1722 - acc: 0.9404 - val_loss: 0.1145 - val_acc: 0.9655\n",
      "Epoch 13/50\n",
      " - 0s - loss: 0.1787 - acc: 0.9319 - val_loss: 0.1034 - val_acc: 0.9741\n",
      "Epoch 14/50\n",
      " - 0s - loss: 0.1654 - acc: 0.9362 - val_loss: 0.1620 - val_acc: 0.9655\n",
      "Epoch 15/50\n",
      " - 0s - loss: 0.1429 - acc: 0.9489 - val_loss: 0.0981 - val_acc: 0.9828\n",
      "Epoch 16/50\n",
      " - 0s - loss: 0.1523 - acc: 0.9447 - val_loss: 0.1791 - val_acc: 0.9569\n",
      "Epoch 17/50\n",
      " - 0s - loss: 0.1488 - acc: 0.9447 - val_loss: 0.1493 - val_acc: 0.9655\n",
      "Epoch 18/50\n",
      " - 0s - loss: 0.1359 - acc: 0.9489 - val_loss: 0.1206 - val_acc: 0.9741\n",
      "Epoch 19/50\n",
      " - 0s - loss: 0.1277 - acc: 0.9489 - val_loss: 0.0926 - val_acc: 0.9914\n",
      "Epoch 20/50\n",
      " - 0s - loss: 0.1221 - acc: 0.9574 - val_loss: 0.1112 - val_acc: 0.9914\n",
      "Epoch 21/50\n",
      " - 0s - loss: 0.1164 - acc: 0.9574 - val_loss: 0.1038 - val_acc: 0.9914\n",
      "Epoch 22/50\n",
      " - 0s - loss: 0.1094 - acc: 0.9617 - val_loss: 0.1078 - val_acc: 0.9914\n",
      "Epoch 23/50\n",
      " - 0s - loss: 0.1097 - acc: 0.9617 - val_loss: 0.1084 - val_acc: 0.9828\n",
      "Epoch 24/50\n",
      " - 0s - loss: 0.1020 - acc: 0.9660 - val_loss: 0.0749 - val_acc: 0.9828\n",
      "Epoch 25/50\n",
      " - 0s - loss: 0.1120 - acc: 0.9617 - val_loss: 0.1073 - val_acc: 0.9914\n",
      "Epoch 26/50\n",
      " - 0s - loss: 0.0964 - acc: 0.9660 - val_loss: 0.0851 - val_acc: 0.9914\n",
      "Epoch 27/50\n",
      " - 0s - loss: 0.0962 - acc: 0.9702 - val_loss: 0.0889 - val_acc: 0.9828\n",
      "Epoch 28/50\n",
      " - 0s - loss: 0.0946 - acc: 0.9702 - val_loss: 0.0889 - val_acc: 0.9914\n",
      "Epoch 29/50\n",
      " - 0s - loss: 0.0855 - acc: 0.9787 - val_loss: 0.0885 - val_acc: 0.9914\n",
      "Epoch 30/50\n",
      " - 0s - loss: 0.0871 - acc: 0.9745 - val_loss: 0.0881 - val_acc: 0.9914\n",
      "Epoch 31/50\n",
      " - 0s - loss: 0.0851 - acc: 0.9745 - val_loss: 0.0827 - val_acc: 0.9914\n",
      "Epoch 32/50\n",
      " - 0s - loss: 0.0815 - acc: 0.9787 - val_loss: 0.0845 - val_acc: 0.9914\n",
      "Epoch 33/50\n",
      " - 0s - loss: 0.0766 - acc: 0.9830 - val_loss: 0.0871 - val_acc: 0.9914\n",
      "Epoch 34/50\n",
      " - 0s - loss: 0.0804 - acc: 0.9787 - val_loss: 0.0964 - val_acc: 0.9914\n",
      "Epoch 35/50\n",
      " - 0s - loss: 0.0747 - acc: 0.9830 - val_loss: 0.0731 - val_acc: 0.9828\n",
      "Epoch 36/50\n",
      " - 0s - loss: 0.0760 - acc: 0.9830 - val_loss: 0.0768 - val_acc: 0.9828\n",
      "Epoch 37/50\n",
      " - 0s - loss: 0.0703 - acc: 0.9830 - val_loss: 0.0872 - val_acc: 0.9914\n",
      "Epoch 38/50\n",
      " - 0s - loss: 0.0712 - acc: 0.9787 - val_loss: 0.0701 - val_acc: 0.9828\n",
      "Epoch 39/50\n",
      " - 0s - loss: 0.0749 - acc: 0.9787 - val_loss: 0.0892 - val_acc: 0.9914\n",
      "Epoch 40/50\n",
      " - 0s - loss: 0.0695 - acc: 0.9787 - val_loss: 0.0714 - val_acc: 0.9828\n",
      "Epoch 41/50\n",
      " - 0s - loss: 0.0651 - acc: 0.9787 - val_loss: 0.0817 - val_acc: 0.9914\n",
      "Epoch 42/50\n",
      " - 0s - loss: 0.0663 - acc: 0.9745 - val_loss: 0.0862 - val_acc: 0.9914\n",
      "Epoch 43/50\n",
      " - 0s - loss: 0.0663 - acc: 0.9830 - val_loss: 0.0752 - val_acc: 0.9828\n",
      "Epoch 44/50\n",
      " - 0s - loss: 0.0658 - acc: 0.9787 - val_loss: 0.0668 - val_acc: 0.9828\n",
      "Epoch 45/50\n",
      " - 0s - loss: 0.0615 - acc: 0.9830 - val_loss: 0.0933 - val_acc: 0.9914\n",
      "Epoch 46/50\n",
      " - 0s - loss: 0.0691 - acc: 0.9787 - val_loss: 0.0681 - val_acc: 0.9828\n",
      "Epoch 47/50\n",
      " - 0s - loss: 0.0664 - acc: 0.9830 - val_loss: 0.0590 - val_acc: 0.9828\n",
      "Epoch 48/50\n",
      " - 0s - loss: 0.0625 - acc: 0.9872 - val_loss: 0.0818 - val_acc: 0.9914\n",
      "Epoch 49/50\n",
      " - 0s - loss: 0.0587 - acc: 0.9830 - val_loss: 0.0777 - val_acc: 0.9828\n",
      "Epoch 50/50\n",
      " - 0s - loss: 0.0586 - acc: 0.9830 - val_loss: 0.0605 - val_acc: 0.9828\n"
     ]
    },
    {
     "data": {
      "text/plain": [
       "<keras.callbacks.History at 0x11e25f320>"
      ]
     },
     "execution_count": 5,
     "metadata": {},
     "output_type": "execute_result"
    }
   ],
   "source": [
    "#encode class labels as integers\n",
    "encoder = LabelEncoder()\n",
    "encoder.fit(y)\n",
    "y = encoder.transform(y)\n",
    "#create model\n",
    "model = Sequential()\n",
    "model.add(Dense(34,input_dim=34,kernel_initializer='normal',activation='relu'))\n",
    "model.add(Dense(1,kernel_initializer='normal',activation = 'sigmoid'))\n",
    "#compile model\n",
    "epochs = 50\n",
    "learning_rate = 0.1\n",
    "decay_rate = learning_rate/epochs\n",
    "momentum = 0.8\n",
    "sgd = SGD(lr=learning_rate, momentum=momentum,decay=decay_rate,nesterov=False)\n",
    "model.compile(loss='binary_crossentropy',optimizer=sgd,metrics=['accuracy'])\n",
    "#fit the model\n",
    "model.fit(X,y,validation_split = 0.33,epochs=epochs,batch_size=28,verbose=2)"
   ]
  },
  {
   "cell_type": "markdown",
   "metadata": {
    "collapsed": true
   },
   "source": [
    "Classification accuracy of 99.14% which is higher than the baseline of 95.69%"
   ]
  },
  {
   "cell_type": "markdown",
   "metadata": {},
   "source": [
    "## Drop-Based Learning Rate Schedule"
   ]
  },
  {
   "cell_type": "markdown",
   "metadata": {},
   "source": [
    "Another method is to systematically drop the \n",
    "learning rate at specific times during training. Often this method is implemented by dropping the learning\n",
    "rate by half every fixed number of epochs. For example, we may have an initial learning rate of 0.1 and \n",
    "drop it by a factor of 0.5 every 10 epochs. The first 10 epochs of training would use a value of 0.1, in\n",
    "the next 10 epochs a learning rate of 0.05 would be used, and so on."
   ]
  },
  {
   "cell_type": "code",
   "execution_count": 28,
   "metadata": {},
   "outputs": [],
   "source": [
    "# learning rate schedule\n",
    "def step_decay(lrate,epoch,lim):\n",
    "    initial_lrate = 0.1\n",
    "    drop = 0.5\n",
    "    epochs_drop = 10.0\n",
    "    for n in range(0,lim):\n",
    "        lrate[n] = initial_lrate * math.pow(drop, math.floor((1+epoch[n])/epochs_drop))\n",
    "    return lrate"
   ]
  },
  {
   "cell_type": "code",
   "execution_count": 30,
   "metadata": {},
   "outputs": [
    {
     "data": {
      "image/png": "[encoded data removed]",
      "text/plain": [
       "<matplotlib.figure.Figure at 0x1226a47b8>"
      ]
     },
     "metadata": {},
     "output_type": "display_data"
    }
   ],
   "source": [
    "epoch = [n for n in range(1,100)]\n",
    "lrate = [n for n in range(1,100)]\n",
    "ans = step_decay(lrate,epoch,len(epoch))    \n",
    "plt.plot(epoch,ans)\n",
    "plt.ylabel('Learning Rate')\n",
    "plt.xlabel('epochs')\n",
    "plt.title('Drop Learning rate: Learning Rate vs epoch')\n",
    "plt.show()"
   ]
  },
  {
   "cell_type": "markdown",
   "metadata": {},
   "source": [
    "We can implement this in Keras using the LearningRateScheduler callback when fitting the model. The LearningRateScheduler callback allows us to define a function to call that takes the epoch number as an argument and returns the learning rate to use in stochastic gradient descent. When used, the learning rate specified by stochastic gradient descent is ignored.\n",
    "- http://keras.io/callbacks/"
   ]
  },
  {
   "cell_type": "code",
   "execution_count": 32,
   "metadata": {
    "collapsed": true
   },
   "outputs": [],
   "source": [
    "# learning rate schedule\n",
    "def step_decay(epoch):\n",
    "    initial_lrate = 0.1\n",
    "    drop = 0.5\n",
    "    epochs_drop = 10.0\n",
    "    lrate = initial_lrate * math.pow(drop, math.floor((1+epoch)/epochs_drop))\n",
    "    return lrate"
   ]
  },
  {
   "cell_type": "code",
   "execution_count": 33,
   "metadata": {},
   "outputs": [
    {
     "name": "stdout",
     "output_type": "stream",
     "text": [
      "Train on 235 samples, validate on 116 samples\n",
      "Epoch 1/50\n",
      " - 0s - loss: 0.6883 - acc: 0.4936 - val_loss: 0.6028 - val_acc: 0.9310\n",
      "Epoch 2/50\n",
      " - 0s - loss: 0.6239 - acc: 0.7319 - val_loss: 0.4716 - val_acc: 0.9052\n",
      "Epoch 3/50\n",
      " - 0s - loss: 0.5217 - acc: 0.8128 - val_loss: 0.4047 - val_acc: 0.9310\n",
      "Epoch 4/50\n",
      " - 0s - loss: 0.3631 - acc: 0.8766 - val_loss: 0.2084 - val_acc: 0.9569\n",
      "Epoch 5/50\n",
      " - 0s - loss: 0.2856 - acc: 0.8809 - val_loss: 0.1773 - val_acc: 0.9569\n",
      "Epoch 6/50\n",
      " - 0s - loss: 0.2182 - acc: 0.9106 - val_loss: 0.1325 - val_acc: 0.9569\n",
      "Epoch 7/50\n",
      " - 0s - loss: 0.2012 - acc: 0.9277 - val_loss: 0.0897 - val_acc: 0.9741\n",
      "Epoch 8/50\n",
      " - 0s - loss: 0.2047 - acc: 0.9191 - val_loss: 0.0912 - val_acc: 0.9741\n",
      "Epoch 9/50\n",
      " - 0s - loss: 0.1702 - acc: 0.9319 - val_loss: 0.2447 - val_acc: 0.9224\n",
      "Epoch 10/50\n",
      " - 0s - loss: 0.1415 - acc: 0.9660 - val_loss: 0.0833 - val_acc: 0.9741\n",
      "Epoch 11/50\n",
      " - 0s - loss: 0.1267 - acc: 0.9489 - val_loss: 0.1683 - val_acc: 0.9655\n",
      "Epoch 12/50\n",
      " - 0s - loss: 0.1130 - acc: 0.9617 - val_loss: 0.0907 - val_acc: 0.9914\n",
      "Epoch 13/50\n",
      " - 0s - loss: 0.1001 - acc: 0.9745 - val_loss: 0.1029 - val_acc: 0.9914\n",
      "Epoch 14/50\n",
      " - 0s - loss: 0.1001 - acc: 0.9660 - val_loss: 0.0816 - val_acc: 0.9828\n",
      "Epoch 15/50\n",
      " - 0s - loss: 0.0920 - acc: 0.9745 - val_loss: 0.1008 - val_acc: 0.9914\n",
      "Epoch 16/50\n",
      " - 0s - loss: 0.0881 - acc: 0.9787 - val_loss: 0.0787 - val_acc: 0.9914\n",
      "Epoch 17/50\n",
      " - 0s - loss: 0.0872 - acc: 0.9787 - val_loss: 0.0844 - val_acc: 0.9914\n",
      "Epoch 18/50\n",
      " - 0s - loss: 0.0805 - acc: 0.9830 - val_loss: 0.0857 - val_acc: 0.9914\n",
      "Epoch 19/50\n",
      " - 0s - loss: 0.0764 - acc: 0.9830 - val_loss: 0.0783 - val_acc: 0.9914\n",
      "Epoch 20/50\n",
      " - 0s - loss: 0.0730 - acc: 0.9830 - val_loss: 0.0781 - val_acc: 0.9914\n",
      "Epoch 21/50\n",
      " - 0s - loss: 0.0701 - acc: 0.9830 - val_loss: 0.0831 - val_acc: 0.9914\n",
      "Epoch 22/50\n",
      " - 0s - loss: 0.0690 - acc: 0.9830 - val_loss: 0.0768 - val_acc: 0.9914\n",
      "Epoch 23/50\n",
      " - 0s - loss: 0.0669 - acc: 0.9830 - val_loss: 0.0787 - val_acc: 0.9914\n",
      "Epoch 24/50\n",
      " - 0s - loss: 0.0653 - acc: 0.9830 - val_loss: 0.0755 - val_acc: 0.9914\n",
      "Epoch 25/50\n",
      " - 0s - loss: 0.0641 - acc: 0.9830 - val_loss: 0.0707 - val_acc: 0.9914\n",
      "Epoch 26/50\n",
      " - 0s - loss: 0.0648 - acc: 0.9830 - val_loss: 0.0708 - val_acc: 0.9914\n",
      "Epoch 27/50\n",
      " - 0s - loss: 0.0740 - acc: 0.9787 - val_loss: 0.0881 - val_acc: 0.9914\n",
      "Epoch 28/50\n",
      " - 0s - loss: 0.0625 - acc: 0.9830 - val_loss: 0.0587 - val_acc: 0.9914\n",
      "Epoch 29/50\n",
      " - 0s - loss: 0.0611 - acc: 0.9830 - val_loss: 0.0760 - val_acc: 0.9914\n",
      "Epoch 30/50\n",
      " - 0s - loss: 0.0612 - acc: 0.9830 - val_loss: 0.0980 - val_acc: 0.9914\n",
      "Epoch 31/50\n",
      " - 0s - loss: 0.0635 - acc: 0.9830 - val_loss: 0.0768 - val_acc: 0.9914\n",
      "Epoch 32/50\n",
      " - 0s - loss: 0.0574 - acc: 0.9830 - val_loss: 0.0713 - val_acc: 0.9914\n",
      "Epoch 33/50\n",
      " - 0s - loss: 0.0570 - acc: 0.9830 - val_loss: 0.0663 - val_acc: 0.9914\n",
      "Epoch 34/50\n",
      " - 0s - loss: 0.0559 - acc: 0.9830 - val_loss: 0.0735 - val_acc: 0.9914\n",
      "Epoch 35/50\n",
      " - 0s - loss: 0.0551 - acc: 0.9830 - val_loss: 0.0706 - val_acc: 0.9914\n",
      "Epoch 36/50\n",
      " - 0s - loss: 0.0545 - acc: 0.9830 - val_loss: 0.0662 - val_acc: 0.9914\n",
      "Epoch 37/50\n",
      " - 0s - loss: 0.0544 - acc: 0.9830 - val_loss: 0.0665 - val_acc: 0.9914\n",
      "Epoch 38/50\n",
      " - 0s - loss: 0.0544 - acc: 0.9830 - val_loss: 0.0722 - val_acc: 0.9914\n",
      "Epoch 39/50\n",
      " - 0s - loss: 0.0538 - acc: 0.9830 - val_loss: 0.0704 - val_acc: 0.9914\n",
      "Epoch 40/50\n",
      " - 0s - loss: 0.0529 - acc: 0.9830 - val_loss: 0.0643 - val_acc: 0.9914\n",
      "Epoch 41/50\n",
      " - 0s - loss: 0.0530 - acc: 0.9830 - val_loss: 0.0657 - val_acc: 0.9914\n",
      "Epoch 42/50\n",
      " - 0s - loss: 0.0528 - acc: 0.9830 - val_loss: 0.0657 - val_acc: 0.9914\n",
      "Epoch 43/50\n",
      " - 0s - loss: 0.0525 - acc: 0.9830 - val_loss: 0.0655 - val_acc: 0.9914\n",
      "Epoch 44/50\n",
      " - 0s - loss: 0.0521 - acc: 0.9830 - val_loss: 0.0657 - val_acc: 0.9914\n",
      "Epoch 45/50\n",
      " - 0s - loss: 0.0518 - acc: 0.9830 - val_loss: 0.0679 - val_acc: 0.9914\n",
      "Epoch 46/50\n",
      " - 0s - loss: 0.0516 - acc: 0.9830 - val_loss: 0.0677 - val_acc: 0.9914\n",
      "Epoch 47/50\n",
      " - 0s - loss: 0.0514 - acc: 0.9830 - val_loss: 0.0681 - val_acc: 0.9914\n",
      "Epoch 48/50\n",
      " - 0s - loss: 0.0513 - acc: 0.9830 - val_loss: 0.0679 - val_acc: 0.9914\n",
      "Epoch 49/50\n",
      " - 0s - loss: 0.0509 - acc: 0.9830 - val_loss: 0.0660 - val_acc: 0.9914\n",
      "Epoch 50/50\n",
      " - 0s - loss: 0.0508 - acc: 0.9830 - val_loss: 0.0656 - val_acc: 0.9914\n"
     ]
    },
    {
     "data": {
      "text/plain": [
       "<keras.callbacks.History at 0x12300f668>"
      ]
     },
     "execution_count": 33,
     "metadata": {},
     "output_type": "execute_result"
    }
   ],
   "source": [
    "model = Sequential()\n",
    "model.add(Dense(34,input_dim=34,kernel_initializer='normal',activation='relu'))\n",
    "model.add(Dense(1,kernel_initializer='normal',activation='sigmoid'))\n",
    "#compile model\n",
    "sgd = SGD(lr=0.0,momentum=0.9,decay=0.0,nesterov=False)\n",
    "model.compile(loss='binary_crossentropy',optimizer=sgd,metrics=['accuracy'])\n",
    "#learning rate callback\n",
    "lrate = LearningRateScheduler(step_decay)\n",
    "callbacks_list = [lrate]\n",
    "model.fit(X,y,validation_split=0.33,epochs=50,batch_size=28,callbacks=callbacks_list,verbose=2)"
   ]
  },
  {
   "cell_type": "markdown",
   "metadata": {},
   "source": [
    "Classification accuracy of 99.14% which is higher than the baseline of 95.69%"
   ]
  },
  {
   "cell_type": "code",
   "execution_count": null,
   "metadata": {
    "collapsed": true
   },
   "outputs": [],
   "source": []
  }
 ],
 "metadata": {
  "kernelspec": {
   "display_name": "Python 3",
   "language": "python",
   "name": "python3"
  },
  "language_info": {
   "codemirror_mode": {
    "name": "ipython",
    "version": 3
   },
   "file_extension": ".py",
   "mimetype": "text/x-python",
   "name": "python",
   "nbconvert_exporter": "python",
   "pygments_lexer": "ipython3",
   "version": "3.6.1"
  }
 },
 "nbformat": 4,
 "nbformat_minor": 2
}

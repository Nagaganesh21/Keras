{
 "cells": [
  {
   "cell_type": "markdown",
   "metadata": {},
   "source": [
    "## Use Keras Models with Scikit-Learn \n",
    "\n",
    "- Cross Vaildation\n",
    "- Tune parameters of model"
   ]
  },
  {
   "cell_type": "code",
   "execution_count": 11,
   "metadata": {},
   "outputs": [],
   "source": [
    "from keras.models import Sequential\n",
    "from keras.layers import Dense\n",
    "from keras.wrappers.scikit_learn import KerasClassifier\n",
    "from keras.optimizers import SGD\n",
    "from sklearn.model_selection import cross_val_score\n",
    "from sklearn.preprocessing import LabelEncoder\n",
    "from sklearn.model_selection import StratifiedKFold\n",
    "from sklearn.preprocessing import StandardScaler\n",
    "from sklearn.pipeline import Pipeline\n",
    "from sklearn.model_selection import GridSearchCV\n",
    "import matplotlib.pyplot as plt\n",
    "import numpy as np\n",
    "import pandas as pd\n",
    "import os\n",
    "import warnings\n",
    "warnings.filterwarnings('ignore')\n",
    "os.environ[\"TF_CPP_MIN_LOG_LEVEL\"]=\"2\""
   ]
  },
  {
   "cell_type": "markdown",
   "metadata": {},
   "source": [
    "### Cross-Validation\n",
    "\n",
    "- Use KerasClassifier and KerasRegressor classes in Keras\n",
    "- Use StratifiedKFold to perform N-fold stratified cross-validation"
   ]
  },
  {
   "cell_type": "code",
   "execution_count": 10,
   "metadata": {},
   "outputs": [
    {
     "name": "stdout",
     "output_type": "stream",
     "text": [
      "The test results are 0.6900196489991095\n"
     ]
    }
   ],
   "source": [
    "# MLP for Pima Indians Dataset with N-fold cross validation via sklearn\n",
    "\n",
    "# Function to create model, required for KerasClassifier\n",
    "def create_model():\n",
    "    # create model\n",
    "    model = Sequential()\n",
    "    model.add(Dense(12, input_dim=8, activation='relu'))\n",
    "    model.add(Dense(8, activation='relu'))\n",
    "    model.add(Dense(1, activation='sigmoid'))\n",
    "    # Compile model\n",
    "    model.compile(loss='binary_crossentropy', optimizer='adam', metrics=['accuracy'])\n",
    "    return model\n",
    "\n",
    "seed = 7\n",
    "np.random.seed(7)\n",
    "dataset = pd.read_csv('diabetes.csv')\n",
    "dataset.head()\n",
    "\n",
    "#split into input and output\n",
    "X = np.array(dataset.iloc[:, 0:8])\n",
    "Y = np.array(dataset.iloc[:, 8])\n",
    "\n",
    "# create model\n",
    "model = KerasClassifier(build_fn=create_model, epochs=150, batch_size=100,verbose=0)\n",
    "# evaluate using N-fold cross validation\n",
    "kfold = StratifiedKFold(n_splits=3, shuffle=True, random_state=seed)\n",
    "results = cross_val_score(model,X,Y,cv=kfold)\n",
    "print(\"The test results are {}\".format(results.mean()))"
   ]
  },
  {
   "cell_type": "markdown",
   "metadata": {},
   "source": [
    "### Grid Search\n",
    "\n",
    "Use GridSearchCV class to determine:\n",
    "- Optimizers for searching different weight values.\n",
    "- Initializers for preparing the network weights using different schemes.\n",
    "- Number of epochs for training the model for different number of exposures to the training dataset.\n",
    "- Batches for varying the number of samples before weight updates\n",
    "\n",
    "Should be used only lightly as models take a lot of computation"
   ]
  },
  {
   "cell_type": "code",
   "execution_count": 16,
   "metadata": {},
   "outputs": [
    {
     "name": "stdout",
     "output_type": "stream",
     "text": [
      "Best: 0.699219 using {'batch_size': 100, 'epochs': 150, 'init': 'uniform', 'optimizer': 'adam'}\n",
      "0.673177 (0.013279) with: {'batch_size': 100, 'epochs': 150, 'init': 'glorot_uniform', 'optimizer': 'rmsprop'}\n",
      "0.674479 (0.012075) with: {'batch_size': 100, 'epochs': 150, 'init': 'glorot_uniform', 'optimizer': 'adam'}\n",
      "0.697917 (0.018688) with: {'batch_size': 100, 'epochs': 150, 'init': 'normal', 'optimizer': 'rmsprop'}\n",
      "0.677083 (0.014382) with: {'batch_size': 100, 'epochs': 150, 'init': 'normal', 'optimizer': 'adam'}\n",
      "0.696615 (0.016053) with: {'batch_size': 100, 'epochs': 150, 'init': 'uniform', 'optimizer': 'rmsprop'}\n",
      "0.699219 (0.022999) with: {'batch_size': 100, 'epochs': 150, 'init': 'uniform', 'optimizer': 'adam'}\n"
     ]
    }
   ],
   "source": [
    "# Function to create model, required for KerasClassifier\n",
    "def create_model(optimizer='rmsprop', init='glorot_uniform'):\n",
    "    # create model\n",
    "    model = Sequential()\n",
    "    model.add(Dense(12, input_dim=8, kernel_initializer=init, activation='relu'))\n",
    "    model.add(Dense(8, kernel_initializer=init, activation='relu'))\n",
    "    model.add(Dense(1, kernel_initializer=init, activation='sigmoid'))\n",
    "    # Compile model\n",
    "    model.compile(loss='binary_crossentropy', optimizer=optimizer, metrics=['accuracy'])\n",
    "    return model\n",
    "\n",
    "seed = 7\n",
    "np.random.seed(7)\n",
    "dataset = pd.read_csv('diabetes.csv')\n",
    "dataset.head()\n",
    "\n",
    "#split into input and output\n",
    "X = np.array(dataset.iloc[:, 0:8])\n",
    "Y = np.array(dataset.iloc[:, 8])\n",
    "\n",
    "#create the model\n",
    "model = KerasClassifier(build_fn=create_model, verbose = 0)\n",
    "\n",
    "#grid search epochs, batch size, optimizer\n",
    "optimizers = ['rmsprop','adam']\n",
    "inits = ['glorot_uniform','normal','uniform']\n",
    "epochs = [150]\n",
    "batches = [100]\n",
    "param_grid = dict(optimizer = optimizers, epochs=epochs, batch_size=batches, init=inits)\n",
    "grid = GridSearchCV(estimator=model,param_grid=param_grid)\n",
    "grid_result = grid.fit(X,Y)\n",
    "\n",
    "# summarize results\n",
    "print(\"Best: %f using %s\" % (grid_result.best_score_, grid_result.best_params_))\n",
    "means = grid_result.cv_results_['mean_test_score']\n",
    "stds = grid_result.cv_results_['std_test_score']\n",
    "params = grid_result.cv_results_['params']\n",
    "\n",
    "for mean, stdev, param in zip(means, stds, params):\n",
    "    print(\"%f (%f) with: %r\" % (mean, stdev, param))\n"
   ]
  },
  {
   "cell_type": "code",
   "execution_count": null,
   "metadata": {},
   "outputs": [],
   "source": []
  }
 ],
 "metadata": {
  "kernelspec": {
   "display_name": "Python 3",
   "language": "python",
   "name": "python3"
  },
  "language_info": {
   "codemirror_mode": {
    "name": "ipython",
    "version": 3
   },
   "file_extension": ".py",
   "mimetype": "text/x-python",
   "name": "python",
   "nbconvert_exporter": "python",
   "pygments_lexer": "ipython3",
   "version": "3.6.4"
  }
 },
 "nbformat": 4,
 "nbformat_minor": 2
}

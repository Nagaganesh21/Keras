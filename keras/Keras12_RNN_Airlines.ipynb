{
 "cells": [
  {
   "cell_type": "markdown",
   "metadata": {},
   "source": [
    "## Time Series Prediction\n",
    "\n",
    "International airline passengers prediction problem. This is a problem where given a year and a month, the task is to predict the number of\n",
    "international airline passengers in units of 1,000. The data ranges from January 1949 to December\n",
    "1960 or 12 years, with 144 observations. \n",
    "- https://datamarket.com/data/set/22u3/international-airline-passengers-monthly-totals-in-thousands-jan-49-dec-60#!ds=22u3&display=line"
   ]
  },
  {
   "cell_type": "code",
   "execution_count": 1,
   "metadata": {},
   "outputs": [
    {
     "data": {
      "text/html": [
       "<div>\n",
       "<style scoped>\n",
       "    .dataframe tbody tr th:only-of-type {\n",
       "        vertical-align: middle;\n",
       "    }\n",
       "\n",
       "    .dataframe tbody tr th {\n",
       "        vertical-align: top;\n",
       "    }\n",
       "\n",
       "    .dataframe thead th {\n",
       "        text-align: right;\n",
       "    }\n",
       "</style>\n",
       "<table border=\"1\" class=\"dataframe\">\n",
       "  <thead>\n",
       "    <tr style=\"text-align: right;\">\n",
       "      <th></th>\n",
       "      <th>International airline passengers: monthly totals in thousands. Jan 49 ? Dec 60</th>\n",
       "    </tr>\n",
       "  </thead>\n",
       "  <tbody>\n",
       "    <tr>\n",
       "      <th>0</th>\n",
       "      <td>112</td>\n",
       "    </tr>\n",
       "    <tr>\n",
       "      <th>1</th>\n",
       "      <td>118</td>\n",
       "    </tr>\n",
       "    <tr>\n",
       "      <th>2</th>\n",
       "      <td>132</td>\n",
       "    </tr>\n",
       "    <tr>\n",
       "      <th>3</th>\n",
       "      <td>129</td>\n",
       "    </tr>\n",
       "    <tr>\n",
       "      <th>4</th>\n",
       "      <td>121</td>\n",
       "    </tr>\n",
       "  </tbody>\n",
       "</table>\n",
       "</div>"
      ],
      "text/plain": [
       "   International airline passengers: monthly totals in thousands. Jan 49 ? Dec 60\n",
       "0                                                112                             \n",
       "1                                                118                             \n",
       "2                                                132                             \n",
       "3                                                129                             \n",
       "4                                                121                             "
      ]
     },
     "execution_count": 1,
     "metadata": {},
     "output_type": "execute_result"
    }
   ],
   "source": [
    "from pandas import read_csv\n",
    "import numpy as np\n",
    "import matplotlib.pyplot as plt\n",
    "%matplotlib inline\n",
    "plt.rcParams['figure.figsize'] = (10,6)\n",
    "dataset = read_csv('international-airline-passengers.csv', usecols=[1], engine='python',skipfooter=3)\n",
    "dataset.head()\n"
   ]
  },
  {
   "cell_type": "code",
   "execution_count": 2,
   "metadata": {},
   "outputs": [
    {
     "data": {
      "image/png": "[encoded data removed]",
      "text/plain": [
       "<Figure size 432x288 with 1 Axes>"
      ]
     },
     "metadata": {},
     "output_type": "display_data"
    }
   ],
   "source": [
    "plt.plot(dataset)\n",
    "plt.xlabel('Months from 1949 to 1960')\n",
    "plt.ylabel('Monthly totals in thousands')\n",
    "plt.title('International airline passengers')\n",
    "plt.show()"
   ]
  },
  {
   "cell_type": "markdown",
   "metadata": {},
   "source": [
    "Growing with time and periodic in nature, peaks may correspond to summer holiday time in northern hemisphere"
   ]
  },
  {
   "cell_type": "markdown",
   "metadata": {},
   "source": [
    "### Multilayer Percepton Regression\n",
    "Phrase the time series prediction problem as a regression problem. Given the\n",
    "number of passengers (in units of thousands) this month, what is the number of passengers next\n",
    "month. We can write a simple function to convert our single column of data into a two-column\n",
    "dataset. The first column containing this month’s (t) passenger count and the second column\n",
    "containing next month’s (t+1) passenger count, to be predicted. "
   ]
  },
  {
   "cell_type": "code",
   "execution_count": 3,
   "metadata": {},
   "outputs": [
    {
     "name": "stderr",
     "output_type": "stream",
     "text": [
      "C:\\Users\\richard\\Anaconda3\\envs\\tf15\\lib\\site-packages\\h5py\\__init__.py:36: FutureWarning: Conversion of the second argument of issubdtype from `float` to `np.floating` is deprecated. In future, it will be treated as `np.float64 == np.dtype(float).type`.\n",
      "  from ._conv import register_converters as _register_converters\n",
      "Using TensorFlow backend.\n"
     ]
    }
   ],
   "source": [
    "import math\n",
    "from keras.models import Sequential\n",
    "from keras.layers import Dense\n",
    "# fix random seed for reproducibility\n",
    "np.random.seed(7)\n",
    "#convert values to float\n",
    "dataset = dataset.values.astype('float32')"
   ]
  },
  {
   "cell_type": "code",
   "execution_count": 4,
   "metadata": {},
   "outputs": [
    {
     "data": {
      "text/plain": [
       "array([[112.],\n",
       "       [118.],\n",
       "       [132.],\n",
       "       [129.],\n",
       "       [121.],\n",
       "       [135.],\n",
       "       [148.],\n",
       "       [148.],\n",
       "       [136.],\n",
       "       [119.]], dtype=float32)"
      ]
     },
     "execution_count": 4,
     "metadata": {},
     "output_type": "execute_result"
    }
   ],
   "source": [
    "dataset[:10]"
   ]
  },
  {
   "cell_type": "markdown",
   "metadata": {},
   "source": [
    "After modelling data for a normal classification\n",
    "or regression problem could use using k-fold cross-validation to test for unseen data. With time series data,\n",
    "the sequence of values is important. A simple method that we can use is to split the ordered\n",
    "dataset into train and test datasets. The code below calculates the index of the split point and\n",
    "separates the data into the training datasets with 67% of the observations that we can use to\n",
    "train our model, leaving the remaining 33% for testing the model."
   ]
  },
  {
   "cell_type": "code",
   "execution_count": 5,
   "metadata": {},
   "outputs": [
    {
     "name": "stdout",
     "output_type": "stream",
     "text": [
      "96 48\n"
     ]
    }
   ],
   "source": [
    "#split into train and test sets\n",
    "train_size = int(len(dataset) * 0.67)\n",
    "test_size = len(dataset) - train_size\n",
    "train, test = dataset[0:train_size,:],dataset[train_size:len(dataset),:]\n",
    "print(len(train),len(test))"
   ]
  },
  {
   "cell_type": "code",
   "execution_count": 6,
   "metadata": {},
   "outputs": [
    {
     "data": {
      "text/plain": [
       "array([[112.],\n",
       "       [118.],\n",
       "       [132.],\n",
       "       [129.],\n",
       "       [121.],\n",
       "       [135.],\n",
       "       [148.],\n",
       "       [148.],\n",
       "       [136.],\n",
       "       [119.]], dtype=float32)"
      ]
     },
     "execution_count": 6,
     "metadata": {},
     "output_type": "execute_result"
    }
   ],
   "source": [
    "dataset[:10]"
   ]
  },
  {
   "cell_type": "markdown",
   "metadata": {},
   "source": [
    "Create a dataset where X is\n",
    "the number of passengers at a given time (t) and Y is the number of passengers at the next time (t+1).\n",
    "Array above becomes:\n",
    "- 112 118\n",
    "- 118 132\n",
    "- 132 129\n",
    "- 129 121"
   ]
  },
  {
   "cell_type": "markdown",
   "metadata": {},
   "source": [
    "Create a dataset where X is\n",
    "the number of passengers at a given time (t) and Y is the number of passengers at the next\n",
    "time (t+1)."
   ]
  },
  {
   "cell_type": "code",
   "execution_count": 28,
   "metadata": {},
   "outputs": [],
   "source": [
    "# convert an array of values into a dataset matrix\n",
    "def create_dataset(dataset, look_back=1):\n",
    "    dataX, dataY = [], []\n",
    "    for i in range(len(dataset)-look_back-1):\n",
    "        a = dataset[i:(i+look_back), 0]\n",
    "        dataX.append(a)\n",
    "        dataY.append(dataset[i + look_back, 0])\n",
    "    return np.array(dataX), np.array(dataY)"
   ]
  },
  {
   "cell_type": "code",
   "execution_count": 29,
   "metadata": {},
   "outputs": [],
   "source": [
    "# reshape into X=t and Y=t+1\n",
    "look_back = 1\n",
    "trainX, trainY = create_dataset(train, look_back)\n",
    "testX, testY = create_dataset(test, look_back)"
   ]
  },
  {
   "cell_type": "code",
   "execution_count": 49,
   "metadata": {},
   "outputs": [
    {
     "name": "stdout",
     "output_type": "stream",
     "text": [
      "t       t+1\n",
      "[112.] [118.]\n",
      "[118.] [132.]\n",
      "[132.] [129.]\n",
      "[129.] [121.]\n",
      "[121.] [135.]\n"
     ]
    }
   ],
   "source": [
    "#check we have transformed the data correctly\n",
    "print('t',\"     \",'t+1')\n",
    "for n in range(5):\n",
    "    print(trainX[n], trainY.reshape(94,1)[n])"
   ]
  },
  {
   "cell_type": "markdown",
   "metadata": {},
   "source": [
    "Fit a Multilayer Perceptron model to the training data. We use a simple network\n",
    "with 1 input, 1 hidden layer with 8 neurons and an output layer. The model is fit using mean\n",
    "squared error, if we take the square root gives us an error score in the units of the dataset."
   ]
  },
  {
   "cell_type": "code",
   "execution_count": 51,
   "metadata": {
    "collapsed": true
   },
   "outputs": [
    {
     "name": "stdout",
     "output_type": "stream",
     "text": [
      "Epoch 1/200\n",
      " - 2s - loss: 47573.3689\n",
      "Epoch 2/200\n",
      " - 0s - loss: 41638.7982\n",
      "Epoch 3/200\n",
      " - 0s - loss: 35671.4853\n",
      "Epoch 4/200\n",
      " - 0s - loss: 29455.6100\n",
      "Epoch 5/200\n",
      " - 0s - loss: 23367.0042\n",
      "Epoch 6/200\n",
      " - 0s - loss: 17667.2450\n",
      "Epoch 7/200\n",
      " - 0s - loss: 12724.6766\n",
      "Epoch 8/200\n",
      " - 0s - loss: 8635.7736\n",
      "Epoch 9/200\n",
      " - 0s - loss: 5550.5634\n",
      "Epoch 10/200\n",
      " - 0s - loss: 3407.6441\n",
      "Epoch 11/200\n",
      " - 0s - loss: 2050.7950\n",
      "Epoch 12/200\n",
      " - 0s - loss: 1280.0152\n",
      "Epoch 13/200\n",
      " - 0s - loss: 862.0552\n",
      "Epoch 14/200\n",
      " - 0s - loss: 672.6010\n",
      "Epoch 15/200\n",
      " - 0s - loss: 584.1586\n",
      "Epoch 16/200\n",
      " - 0s - loss: 554.7163\n",
      "Epoch 17/200\n",
      " - 0s - loss: 546.6044\n",
      "Epoch 18/200\n",
      " - 0s - loss: 547.3599\n",
      "Epoch 19/200\n",
      " - 0s - loss: 538.8208\n",
      "Epoch 20/200\n",
      " - 0s - loss: 538.5308\n",
      "Epoch 21/200\n",
      " - 0s - loss: 536.9807\n",
      "Epoch 22/200\n",
      " - 0s - loss: 536.0285\n",
      "Epoch 23/200\n",
      " - 0s - loss: 537.1251\n",
      "Epoch 24/200\n",
      " - 0s - loss: 535.7832\n",
      "Epoch 25/200\n",
      " - 0s - loss: 538.2119\n",
      "Epoch 26/200\n",
      " - 0s - loss: 538.4747\n",
      "Epoch 27/200\n",
      " - 0s - loss: 538.2311\n",
      "Epoch 28/200\n",
      " - 0s - loss: 537.3816\n",
      "Epoch 29/200\n",
      " - 0s - loss: 538.2827\n",
      "Epoch 30/200\n",
      " - 0s - loss: 539.0568\n",
      "Epoch 31/200\n",
      " - 0s - loss: 536.2946\n",
      "Epoch 32/200\n",
      " - 0s - loss: 539.0046\n",
      "Epoch 33/200\n",
      " - 0s - loss: 536.8508\n",
      "Epoch 34/200\n",
      " - 0s - loss: 539.1824\n",
      "Epoch 35/200\n",
      " - 0s - loss: 537.3519\n",
      "Epoch 36/200\n",
      " - 0s - loss: 538.6059\n",
      "Epoch 37/200\n",
      " - 0s - loss: 538.0634\n",
      "Epoch 38/200\n",
      " - 0s - loss: 541.0714\n",
      "Epoch 39/200\n",
      " - 0s - loss: 538.1971\n",
      "Epoch 40/200\n",
      " - 0s - loss: 536.2570\n",
      "Epoch 41/200\n",
      " - 0s - loss: 536.8810\n",
      "Epoch 42/200\n",
      " - 0s - loss: 538.0678\n",
      "Epoch 43/200\n",
      " - 0s - loss: 542.7861\n",
      "Epoch 44/200\n",
      " - 0s - loss: 538.2609\n",
      "Epoch 45/200\n",
      " - 0s - loss: 537.6743\n",
      "Epoch 46/200\n",
      " - 0s - loss: 541.4325\n",
      "Epoch 47/200\n",
      " - 0s - loss: 540.7062\n",
      "Epoch 48/200\n",
      " - 0s - loss: 540.6800\n",
      "Epoch 49/200\n",
      " - 0s - loss: 535.4653\n",
      "Epoch 50/200\n",
      " - 0s - loss: 539.8996\n",
      "Epoch 51/200\n",
      " - 0s - loss: 538.1578\n",
      "Epoch 52/200\n",
      " - 0s - loss: 535.3382\n",
      "Epoch 53/200\n",
      " - 0s - loss: 536.7903\n",
      "Epoch 54/200\n",
      " - 0s - loss: 542.9303\n",
      "Epoch 55/200\n",
      " - 0s - loss: 537.2221\n",
      "Epoch 56/200\n",
      " - 0s - loss: 541.2083\n",
      "Epoch 57/200\n",
      " - 0s - loss: 549.5552\n",
      "Epoch 58/200\n",
      " - 0s - loss: 544.1337\n",
      "Epoch 59/200\n",
      " - 0s - loss: 540.0633\n",
      "Epoch 60/200\n",
      " - 0s - loss: 540.7309\n",
      "Epoch 61/200\n",
      " - 0s - loss: 540.3420\n",
      "Epoch 62/200\n",
      " - 0s - loss: 543.9044\n",
      "Epoch 63/200\n",
      " - 0s - loss: 537.8564\n",
      "Epoch 64/200\n",
      " - 0s - loss: 540.5010\n",
      "Epoch 65/200\n",
      " - 0s - loss: 537.9629\n",
      "Epoch 66/200\n",
      " - 0s - loss: 538.8421\n",
      "Epoch 67/200\n",
      " - 0s - loss: 549.7383\n",
      "Epoch 68/200\n",
      " - 0s - loss: 558.7664\n",
      "Epoch 69/200\n",
      " - 0s - loss: 537.8396\n",
      "Epoch 70/200\n",
      " - 0s - loss: 537.5497\n",
      "Epoch 71/200\n",
      " - 0s - loss: 543.5100\n",
      "Epoch 72/200\n",
      " - 0s - loss: 540.4310\n",
      "Epoch 73/200\n",
      " - 0s - loss: 540.0852\n",
      "Epoch 74/200\n",
      " - 0s - loss: 538.8094\n",
      "Epoch 75/200\n",
      " - 0s - loss: 540.9884\n",
      "Epoch 76/200\n",
      " - 0s - loss: 537.0863\n",
      "Epoch 77/200\n",
      " - 0s - loss: 540.0626\n",
      "Epoch 78/200\n",
      " - 0s - loss: 535.3521\n",
      "Epoch 79/200\n",
      " - 0s - loss: 541.5888\n",
      "Epoch 80/200\n",
      " - 0s - loss: 540.8636\n",
      "Epoch 81/200\n",
      " - 0s - loss: 537.5927\n",
      "Epoch 82/200\n",
      " - 0s - loss: 536.5661\n",
      "Epoch 83/200\n",
      " - 0s - loss: 549.5660\n",
      "Epoch 84/200\n",
      " - 0s - loss: 545.8253\n",
      "Epoch 85/200\n",
      " - 0s - loss: 538.5536\n",
      "Epoch 86/200\n",
      " - 0s - loss: 538.1983\n",
      "Epoch 87/200\n",
      " - 0s - loss: 537.5311\n",
      "Epoch 88/200\n",
      " - 0s - loss: 539.7144\n",
      "Epoch 89/200\n",
      " - 0s - loss: 541.6900\n",
      "Epoch 90/200\n",
      " - 0s - loss: 548.9251\n",
      "Epoch 91/200\n",
      " - 0s - loss: 543.7334\n",
      "Epoch 92/200\n",
      " - 0s - loss: 540.1128\n",
      "Epoch 93/200\n",
      " - 0s - loss: 538.2212\n",
      "Epoch 94/200\n",
      " - 0s - loss: 536.7753\n",
      "Epoch 95/200\n",
      " - 0s - loss: 543.4014\n",
      "Epoch 96/200\n",
      " - 0s - loss: 538.1062\n",
      "Epoch 97/200\n",
      " - 0s - loss: 539.9247\n",
      "Epoch 98/200\n",
      " - 0s - loss: 537.8860\n",
      "Epoch 99/200\n",
      " - 0s - loss: 541.8810\n",
      "Epoch 100/200\n",
      " - 0s - loss: 538.2105\n",
      "Epoch 101/200\n",
      " - 0s - loss: 537.9102\n",
      "Epoch 102/200\n",
      " - 0s - loss: 536.2735\n",
      "Epoch 103/200\n",
      " - 0s - loss: 542.0658\n",
      "Epoch 104/200\n",
      " - 0s - loss: 534.6670\n",
      "Epoch 105/200\n",
      " - 0s - loss: 542.8569\n",
      "Epoch 106/200\n",
      " - 0s - loss: 540.4590\n",
      "Epoch 107/200\n",
      " - 0s - loss: 538.4264\n",
      "Epoch 108/200\n",
      " - 0s - loss: 541.5722\n",
      "Epoch 109/200\n",
      " - 0s - loss: 536.9198\n",
      "Epoch 110/200\n",
      " - 0s - loss: 541.7024\n",
      "Epoch 111/200\n",
      " - 0s - loss: 537.9528\n",
      "Epoch 112/200\n",
      " - 0s - loss: 540.5570\n",
      "Epoch 113/200\n",
      " - 0s - loss: 539.6314\n",
      "Epoch 114/200\n",
      " - 0s - loss: 534.2769\n",
      "Epoch 115/200\n",
      " - 0s - loss: 544.9194\n",
      "Epoch 116/200\n",
      " - 0s - loss: 538.8413\n",
      "Epoch 117/200\n",
      " - 0s - loss: 539.7730\n",
      "Epoch 118/200\n",
      " - 0s - loss: 539.0305\n",
      "Epoch 119/200\n",
      " - 0s - loss: 540.0621\n",
      "Epoch 120/200\n",
      " - 0s - loss: 538.5749\n",
      "Epoch 121/200\n",
      " - 0s - loss: 539.9147\n",
      "Epoch 122/200\n",
      " - 0s - loss: 539.8784\n",
      "Epoch 123/200\n",
      " - 0s - loss: 538.2958\n",
      "Epoch 124/200\n",
      " - 0s - loss: 537.4971\n",
      "Epoch 125/200\n",
      " - 0s - loss: 546.9343\n",
      "Epoch 126/200\n",
      " - 0s - loss: 534.9717\n",
      "Epoch 127/200\n",
      " - 0s - loss: 538.2617\n",
      "Epoch 128/200\n",
      " - 0s - loss: 542.0783\n",
      "Epoch 129/200\n",
      " - 0s - loss: 540.1603\n",
      "Epoch 130/200\n",
      " - 0s - loss: 540.9390\n",
      "Epoch 131/200\n",
      " - 0s - loss: 540.5171\n",
      "Epoch 132/200\n",
      " - 0s - loss: 541.9296\n",
      "Epoch 133/200\n",
      " - 0s - loss: 546.7703\n",
      "Epoch 134/200\n",
      " - 0s - loss: 536.5126\n",
      "Epoch 135/200\n",
      " - 0s - loss: 537.8879\n",
      "Epoch 136/200\n",
      " - 0s - loss: 546.7957\n",
      "Epoch 137/200\n",
      " - 0s - loss: 539.0928\n",
      "Epoch 138/200\n",
      " - 0s - loss: 543.9656\n",
      "Epoch 139/200\n",
      " - 0s - loss: 540.2026\n",
      "Epoch 140/200\n",
      " - 0s - loss: 554.7335\n",
      "Epoch 141/200\n",
      " - 0s - loss: 535.4816\n",
      "Epoch 142/200\n",
      " - 0s - loss: 539.7997\n",
      "Epoch 143/200\n",
      " - 0s - loss: 535.6918\n",
      "Epoch 144/200\n",
      " - 0s - loss: 536.6484\n",
      "Epoch 145/200\n",
      " - 0s - loss: 540.3587\n",
      "Epoch 146/200\n",
      " - 0s - loss: 547.7695\n",
      "Epoch 147/200\n",
      " - 0s - loss: 546.7940\n",
      "Epoch 148/200\n",
      " - 0s - loss: 542.7985\n",
      "Epoch 149/200\n",
      " - 0s - loss: 538.0796\n",
      "Epoch 150/200\n",
      " - 0s - loss: 539.9109\n",
      "Epoch 151/200\n",
      " - 0s - loss: 538.2337\n",
      "Epoch 152/200\n",
      " - 0s - loss: 542.6553\n",
      "Epoch 153/200\n",
      " - 0s - loss: 542.0495\n",
      "Epoch 154/200\n",
      " - 0s - loss: 534.9963\n",
      "Epoch 155/200\n",
      " - 0s - loss: 541.8792\n",
      "Epoch 156/200\n",
      " - 0s - loss: 535.1736\n",
      "Epoch 157/200\n",
      " - 0s - loss: 543.3237\n",
      "Epoch 158/200\n",
      " - 0s - loss: 544.6587\n",
      "Epoch 159/200\n",
      " - 0s - loss: 536.2703\n",
      "Epoch 160/200\n",
      " - 0s - loss: 537.5007\n",
      "Epoch 161/200\n",
      " - 0s - loss: 536.8781\n",
      "Epoch 162/200\n",
      " - 0s - loss: 561.2319\n",
      "Epoch 163/200\n",
      " - 0s - loss: 548.3064\n",
      "Epoch 164/200\n",
      " - 0s - loss: 537.9426\n",
      "Epoch 165/200\n",
      " - 0s - loss: 537.0714\n",
      "Epoch 166/200\n",
      " - 0s - loss: 540.8799\n",
      "Epoch 167/200\n",
      " - 0s - loss: 535.9833\n",
      "Epoch 168/200\n",
      " - 0s - loss: 540.2033\n",
      "Epoch 169/200\n",
      " - 0s - loss: 537.2605\n",
      "Epoch 170/200\n",
      " - 0s - loss: 550.7920\n",
      "Epoch 171/200\n",
      " - 0s - loss: 541.4723\n",
      "Epoch 172/200\n",
      " - 0s - loss: 540.1921\n",
      "Epoch 173/200\n",
      " - 0s - loss: 547.6932\n",
      "Epoch 174/200\n",
      " - 0s - loss: 542.1938\n",
      "Epoch 175/200\n",
      " - 0s - loss: 537.1696\n",
      "Epoch 176/200\n",
      " - 0s - loss: 541.2264\n",
      "Epoch 177/200\n",
      " - 0s - loss: 533.9237\n",
      "Epoch 178/200\n",
      " - 0s - loss: 536.9760\n",
      "Epoch 179/200\n",
      " - 0s - loss: 538.5016\n",
      "Epoch 180/200\n",
      " - 0s - loss: 542.0439\n",
      "Epoch 181/200\n",
      " - 0s - loss: 555.3927\n",
      "Epoch 182/200\n",
      " - 0s - loss: 541.5829\n",
      "Epoch 183/200\n",
      " - 0s - loss: 535.3339\n",
      "Epoch 184/200\n",
      " - 0s - loss: 534.6161\n",
      "Epoch 185/200\n",
      " - 0s - loss: 556.3761\n",
      "Epoch 186/200\n",
      " - 0s - loss: 536.3116\n",
      "Epoch 187/200\n",
      " - 0s - loss: 536.3259\n",
      "Epoch 188/200\n",
      " - 0s - loss: 539.2409\n",
      "Epoch 189/200\n",
      " - 0s - loss: 541.8288\n",
      "Epoch 190/200\n",
      " - 0s - loss: 539.0208\n",
      "Epoch 191/200\n",
      " - 0s - loss: 537.5234\n",
      "Epoch 192/200\n",
      " - 0s - loss: 539.5366\n",
      "Epoch 193/200\n",
      " - 0s - loss: 546.4681\n",
      "Epoch 194/200\n",
      " - 0s - loss: 542.1801\n",
      "Epoch 195/200\n",
      " - 0s - loss: 535.3075\n",
      "Epoch 196/200\n",
      " - 0s - loss: 551.2696\n",
      "Epoch 197/200\n",
      " - 0s - loss: 543.7833\n",
      "Epoch 198/200\n",
      " - 0s - loss: 538.5883\n",
      "Epoch 199/200\n",
      " - 0s - loss: 539.1433\n",
      "Epoch 200/200\n",
      " - 0s - loss: 533.8347\n"
     ]
    },
    {
     "data": {
      "text/plain": [
       "<keras.callbacks.History at 0x1b74fa75dd8>"
      ]
     },
     "execution_count": 51,
     "metadata": {},
     "output_type": "execute_result"
    }
   ],
   "source": [
    "# create and fit Multilayer Perceptron model\n",
    "model = Sequential()\n",
    "model.add(Dense(8, input_dim=look_back, activation='relu'))\n",
    "model.add(Dense(1))\n",
    "model.compile(loss='mean_squared_error', optimizer='adam')\n",
    "model.fit(trainX, trainY, epochs=200, batch_size=2, verbose=2)"
   ]
  },
  {
   "cell_type": "code",
   "execution_count": 52,
   "metadata": {},
   "outputs": [
    {
     "name": "stdout",
     "output_type": "stream",
     "text": [
      "Train Score: 531.71 MSE (23.06 RMSE)\n",
      "Test Score: 2355.06 MSE (48.53 RMSE)\n"
     ]
    }
   ],
   "source": [
    "# Estimate model performance\n",
    "trainScore = model.evaluate(trainX, trainY, verbose=0)\n",
    "print('Train Score: %.2f MSE (%.2f RMSE)' % (trainScore, math.sqrt(trainScore)))\n",
    "testScore = model.evaluate(testX, testY, verbose=0)\n",
    "print('Test Score: %.2f MSE (%.2f RMSE)' % (testScore, math.sqrt(testScore)))\n"
   ]
  },
  {
   "cell_type": "markdown",
   "metadata": {},
   "source": [
    "Gives poor performance, model has an average error of 23 passengers (000's') on the training and 48(000's) on test"
   ]
  },
  {
   "cell_type": "code",
   "execution_count": 53,
   "metadata": {},
   "outputs": [],
   "source": [
    "trainPredict = model.predict(trainX)"
   ]
  },
  {
   "cell_type": "code",
   "execution_count": 55,
   "metadata": {},
   "outputs": [
    {
     "data": {
      "text/plain": [
       "array([[113.74777 ],\n",
       "       [119.718735],\n",
       "       [133.65099 ],\n",
       "       [130.66551 ],\n",
       "       [122.70422 ]], dtype=float32)"
      ]
     },
     "execution_count": 55,
     "metadata": {},
     "output_type": "execute_result"
    }
   ],
   "source": [
    "trainPredict[:5]"
   ]
  },
  {
   "cell_type": "markdown",
   "metadata": {},
   "source": [
    "### Window method\n",
    "Try using a window - given the current time (t) want to predict the value at the next time in the sequence (t+1), use the current time\n",
    "(t) as well as the two prior times (t-1 and t-2). When phrased as a regression problem the\n",
    "input variables are t-2, t-1, t and the output variable is t+1."
   ]
  },
  {
   "cell_type": "markdown",
   "metadata": {},
   "source": [
    "- X1 X2 X3 Y\n",
    "- 112 118 132 129\n",
    "- 118 132 129 121\n",
    "- 132 129 121 135\n",
    "- 129 121 135 148\n",
    "- 121 135 148 148\n"
   ]
  },
  {
   "cell_type": "markdown",
   "metadata": {},
   "source": [
    "Re-run the example with the larger window size. Increase the network capacity to handle the additional information. The first hidden layer is\n",
    "increased to 14 neurons and a second hidden layer is added with 8 neurons. The number of\n",
    "epochs is also increased to 400."
   ]
  },
  {
   "cell_type": "code",
   "execution_count": 58,
   "metadata": {},
   "outputs": [],
   "source": [
    "# convert an array of values into a dataset matrix\n",
    "def create_dataset(dataset, look_back=1):\n",
    "    dataX, dataY = [], []\n",
    "    for i in range(len(dataset)-look_back-1):\n",
    "        a = dataset[i:(i+look_back), 0]\n",
    "        dataX.append(a)\n",
    "        dataY.append(dataset[i + look_back, 0])\n",
    "    return np.array(dataX), np.array(dataY)"
   ]
  },
  {
   "cell_type": "code",
   "execution_count": 60,
   "metadata": {},
   "outputs": [
    {
     "name": "stdout",
     "output_type": "stream",
     "text": [
      "Train Score: 434.27 MSE (20.84 RMSE)\n",
      "Test Score: 1919.72 MSE (43.81 RMSE)\n"
     ]
    }
   ],
   "source": [
    "# reshape dataset\n",
    "look_back = 3\n",
    "trainX, trainY = create_dataset(train, look_back)\n",
    "testX, testY = create_dataset(test, look_back)\n",
    "\n",
    "# create and fit Multilayer Perceptron model\n",
    "model = Sequential()\n",
    "model.add(Dense(12, input_dim=look_back, activation='relu'))\n",
    "model.add(Dense(8, activation='relu'))\n",
    "model.add(Dense(1))\n",
    "model.compile(loss='mean_squared_error', optimizer='adam')\n",
    "model.fit(trainX, trainY, epochs=400, batch_size=2, verbose=0)\n",
    "\n",
    "# Estimate model performance\n",
    "trainScore = model.evaluate(trainX, trainY, verbose=0)\n",
    "print('Train Score: %.2f MSE (%.2f RMSE)' % (trainScore, math.sqrt(trainScore)))\n",
    "testScore = model.evaluate(testX, testY, verbose=0)\n",
    "print('Test Score: %.2f MSE (%.2f RMSE)' % (testScore, math.sqrt(testScore)))\n"
   ]
  },
  {
   "cell_type": "markdown",
   "metadata": {},
   "source": [
    "Error was reduced compared to that of the previous section. Again, the\n",
    "window size and the network architecture were not tuned, this is just a demonstration of how\n",
    "to frame a prediction problem.  The average error on the training dataset was 20 passengers (in thousands per month) and the\n",
    "average error on the unseen test set was 44 passengers (in thousands per month)."
   ]
  },
  {
   "cell_type": "code",
   "execution_count": null,
   "metadata": {},
   "outputs": [],
   "source": []
  }
 ],
 "metadata": {
  "kernelspec": {
   "display_name": "Python 3",
   "language": "python",
   "name": "python3"
  },
  "language_info": {
   "codemirror_mode": {
    "name": "ipython",
    "version": 3
   },
   "file_extension": ".py",
   "mimetype": "text/x-python",
   "name": "python",
   "nbconvert_exporter": "python",
   "pygments_lexer": "ipython3",
   "version": "3.6.4"
  }
 },
 "nbformat": 4,
 "nbformat_minor": 2
}

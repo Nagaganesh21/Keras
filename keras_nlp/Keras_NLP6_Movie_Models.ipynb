{
 "cells": [
  {
   "cell_type": "markdown",
   "metadata": {},
   "source": [
    "## Sentiment Analysis Models using Bag-of-Words"
   ]
  },
  {
   "cell_type": "markdown",
   "metadata": {},
   "source": [
    "Previously downloaded and processed movie review data from IMDB.  Code calls these functions, it prepares the positive and negative reviews from the training dataset.   At the end of this process we have the processed reviews and the associated labels for each review. "
   ]
  },
  {
   "cell_type": "code",
   "execution_count": 55,
   "metadata": {},
   "outputs": [],
   "source": [
    "import string\n",
    "import re\n",
    "from os import listdir\n",
    "from numpy import array\n",
    "from nltk.corpus import stopwords\n",
    "from keras.preprocessing.text import Tokenizer\n",
    "from keras.models import Sequential\n",
    "from keras.layers import Dense\n",
    "from pandas import DataFrame\n",
    "from matplotlib import pyplot\n",
    "from keras.utils.vis_utils import plot_model\n",
    "import os\n",
    "from IPython.display import Image\n",
    "os.environ[\"PATH\"] += os.pathsep +  'C:\\\\Users/richard\\\\Anaconda3\\\\pkgs\\\\graphviz-2.38-hfd603c8_2\\\\Library\\\\bin\\\\graphviz'\n",
    "\n",
    "# load doc into memory\n",
    "def load_doc(filename):\n",
    "    # open the file as read only\n",
    "    file = open(filename, 'r')\n",
    "    # read all text\n",
    "    text = file.read()\n",
    "    # close the file\n",
    "    file.close()\n",
    "    return text\n",
    "    \n",
    "# turn a doc into clean tokens\n",
    "def clean_doc(doc):\n",
    "    # split into tokens by white space\n",
    "    tokens = doc.split()\n",
    "    # prepare regex for char filtering\n",
    "    re_punc = re.compile('[%s]' % re.escape(string.punctuation))\n",
    "    # remove punctuation from each word\n",
    "    tokens = [re_punc.sub('', w) for w in tokens]\n",
    "    # remove remaining tokens that are not alphabetic\n",
    "    tokens = [word for word in tokens if word.isalpha()]\n",
    "    # filter out stop words\n",
    "    stop_words = set(stopwords.words('english'))\n",
    "    tokens = [w for w in tokens if not w in stop_words]\n",
    "    # filter out short tokens\n",
    "    tokens = [word for word in tokens if len(word) > 1]\n",
    "    return tokens\n",
    "\n",
    "# load doc, clean and return line of tokens\n",
    "def doc_to_line(filename, vocab):\n",
    "    # load the doc\n",
    "    doc = load_doc(filename)\n",
    "    # clean doc\n",
    "    tokens = clean_doc(doc)\n",
    "    # filter by vocab\n",
    "    tokens = [w for w in tokens if w in vocab]\n",
    "    return ' '.join(tokens)\n",
    "\n",
    "# load all docs in a directory\n",
    "def process_docs(directory, vocab, is_train):\n",
    "    lines = list()\n",
    "    # walk through all files in the folder\n",
    "    for filename in listdir(directory):\n",
    "        # skip any reviews in the test set\n",
    "        if is_train and filename.startswith('cv9'):\n",
    "            continue\n",
    "        if not is_train and not filename.startswith('cv9'):\n",
    "            continue\n",
    "        # create the full path of the file to open\n",
    "        path = directory + '/' + filename\n",
    "        # load and clean the doc\n",
    "        line = doc_to_line(path, vocab)\n",
    "        # add to list\n",
    "        lines.append(line)\n",
    "    return lines\n",
    "\n",
    "# load and clean a dataset\n",
    "def load_clean_dataset(vocab, is_train=1):\n",
    "    # load documents\n",
    "    neg = process_docs('data/txt_sentoken/neg', vocab, is_train)\n",
    "    pos = process_docs('data/txt_sentoken/pos', vocab, is_train)\n",
    "    docs = neg + pos\n",
    "    # prepare labels\n",
    "    labels = array([0 for _ in range(len(neg))] + [1 for _ in range(len(pos))])\n",
    "    return docs, labels\n"
   ]
  },
  {
   "cell_type": "markdown",
   "metadata": {},
   "source": [
    "Use Tokenizer class that can do some cleaning and vocab definition tasks. First, the Tokenizer must be created, then fit on the text documents\n",
    "in the training dataset. In this case, these are the aggregation of the positive lines and\n",
    "negative lines arrays developed in the previous section"
   ]
  },
  {
   "cell_type": "code",
   "execution_count": 22,
   "metadata": {},
   "outputs": [],
   "source": [
    "# fit a tokenizer\n",
    "def create_tokenizer(lines):\n",
    "    tokenizer = Tokenizer()\n",
    "    tokenizer.fit_on_texts(lines)\n",
    "    return tokenizer"
   ]
  },
  {
   "cell_type": "code",
   "execution_count": 23,
   "metadata": {},
   "outputs": [
    {
     "name": "stdout",
     "output_type": "stream",
     "text": [
      "14803\n"
     ]
    }
   ],
   "source": [
    "#load the vocab\n",
    "vocab_filename = 'vocab.txt'\n",
    "vocab = load_doc(vocab_filename)\n",
    "#get the processed vocabulary from the reviews\n",
    "vocab = set(vocab.split())\n",
    "\n",
    "# load all reviews\n",
    "train_docs, ytrain = load_clean_dataset(vocab, True)\n",
    "test_docs, ytest = load_clean_dataset(vocab, False)\n",
    "print(len(vocab))"
   ]
  },
  {
   "cell_type": "code",
   "execution_count": 24,
   "metadata": {},
   "outputs": [],
   "source": [
    "#can see the train docs is lost of strings of the reviews, ytrain are the labels for each of the strings here both negative\n",
    "#print(train_docs[0],\"\\n\\n\",ytrain[0])"
   ]
  },
  {
   "cell_type": "code",
   "execution_count": 25,
   "metadata": {},
   "outputs": [],
   "source": [
    "# create the tokenizer\n",
    "tokenizer = create_tokenizer(train_docs)"
   ]
  },
  {
   "cell_type": "code",
   "execution_count": 26,
   "metadata": {},
   "outputs": [
    {
     "name": "stdout",
     "output_type": "stream",
     "text": [
      "['__class__', '__delattr__', '__dict__', '__dir__', '__doc__', '__eq__', '__format__', '__ge__', '__getattribute__', '__gt__', '__hash__', '__init__', '__init_subclass__', '__le__', '__lt__', '__module__', '__ne__', '__new__', '__reduce__', '__reduce_ex__', '__repr__', '__setattr__', '__sizeof__', '__str__', '__subclasshook__', '__weakref__', 'char_level', 'document_count', 'filters', 'fit_on_sequences', 'fit_on_texts', 'index_docs', 'lower', 'num_words', 'oov_token', 'sequences_to_matrix', 'split', 'texts_to_matrix', 'texts_to_sequences', 'texts_to_sequences_generator', 'word_counts', 'word_docs', 'word_index']\n"
     ]
    }
   ],
   "source": [
    "#look at some of the methods\n",
    "print(dir(tokenizer))"
   ]
  },
  {
   "cell_type": "code",
   "execution_count": 27,
   "metadata": {},
   "outputs": [
    {
     "name": "stdout",
     "output_type": "stream",
     "text": [
      "1800\n"
     ]
    }
   ],
   "source": [
    "#get some values\n",
    "#print(tokenizer.word_counts)\n",
    "print(tokenizer.document_count)\n",
    "#print(tokenizer.word_index)\n",
    "#print(tokenizer.word_docs)"
   ]
  },
  {
   "cell_type": "code",
   "execution_count": 28,
   "metadata": {},
   "outputs": [
    {
     "name": "stdout",
     "output_type": "stream",
     "text": [
      "Help on method texts_to_matrix in module keras.preprocessing.text:\n",
      "\n",
      "texts_to_matrix(texts, mode='binary') method of keras.preprocessing.text.Tokenizer instance\n",
      "    Convert a list of texts to a Numpy matrix.\n",
      "    \n",
      "    # Arguments\n",
      "        texts: list of strings.\n",
      "        mode: one of \"binary\", \"count\", \"tfidf\", \"freq\".\n",
      "    \n",
      "    # Returns\n",
      "        A Numpy matrix.\n",
      "\n",
      "None\n"
     ]
    }
   ],
   "source": [
    "#encode the data using text to matrix\n",
    "print(help(tokenizer.texts_to_matrix))"
   ]
  },
  {
   "cell_type": "code",
   "execution_count": 29,
   "metadata": {},
   "outputs": [
    {
     "name": "stdout",
     "output_type": "stream",
     "text": [
      "(1800, 14781) (200, 14781)\n"
     ]
    }
   ],
   "source": [
    "#encode the data\n",
    "Xtrain = tokenizer.texts_to_matrix(train_docs,mode='freq')\n",
    "Xtest = tokenizer.texts_to_matrix(test_docs,mode='freq')\n",
    "print(Xtrain.shape,Xtest.shape)"
   ]
  },
  {
   "cell_type": "markdown",
   "metadata": {},
   "source": [
    "### Develop Model\n",
    "Develope a MLP model to predict the sentiment of the encoded reviews.  Size of the input layer will equal number of words in the vocab above"
   ]
  },
  {
   "cell_type": "code",
   "execution_count": 30,
   "metadata": {},
   "outputs": [
    {
     "data": {
      "text/plain": [
       "14781"
      ]
     },
     "execution_count": 30,
     "metadata": {},
     "output_type": "execute_result"
    }
   ],
   "source": [
    "n_words = Xtest.shape[1]\n",
    "n_words"
   ]
  },
  {
   "cell_type": "markdown",
   "metadata": {},
   "source": [
    "Try trial and error selction of model. Use a single hidden layer\n",
    "with 60 neurons and a rectified linear activation function. Output layer is a single neuron\n",
    "with a sigmoid activation function for predicting 0 for negative and 1 for positive reviews. The\n",
    "network will be trained using the efficient Adam implementation of gradient descent and the\n",
    "binary cross entropy loss function, suited to binary classification problems."
   ]
  },
  {
   "cell_type": "code",
   "execution_count": 34,
   "metadata": {},
   "outputs": [],
   "source": [
    "# define the model\n",
    "def define_model(n_words):\n",
    "    # define network\n",
    "    model = Sequential()\n",
    "    model.add(Dense(60, input_shape=(n_words,), activation='relu'))\n",
    "    model.add(Dense(1, activation='sigmoid'))\n",
    "    # compile network\n",
    "    model.compile(loss='binary_crossentropy', optimizer='adam', metrics=['accuracy'])\n",
    "    # summarize defined model\n",
    "    model.summary()\n",
    "    plot_model(model, to_file='img/model.png', show_shapes=True)\n",
    "    return model"
   ]
  },
  {
   "cell_type": "code",
   "execution_count": 35,
   "metadata": {},
   "outputs": [
    {
     "name": "stdout",
     "output_type": "stream",
     "text": [
      "_________________________________________________________________\n",
      "Layer (type)                 Output Shape              Param #   \n",
      "=================================================================\n",
      "dense_153 (Dense)            (None, 60)                886920    \n",
      "_________________________________________________________________\n",
      "dense_154 (Dense)            (None, 1)                 61        \n",
      "=================================================================\n",
      "Total params: 886,981\n",
      "Trainable params: 886,981\n",
      "Non-trainable params: 0\n",
      "_________________________________________________________________\n",
      "Epoch 1/10\n",
      " - 2s - loss: 0.6915 - acc: 0.6161\n",
      "Epoch 2/10\n",
      " - 1s - loss: 0.6804 - acc: 0.7756\n",
      "Epoch 3/10\n",
      " - 1s - loss: 0.6554 - acc: 0.8556\n",
      "Epoch 4/10\n",
      " - 1s - loss: 0.6161 - acc: 0.9183\n",
      "Epoch 5/10\n",
      " - 1s - loss: 0.5667 - acc: 0.9261\n",
      "Epoch 6/10\n",
      " - 1s - loss: 0.5129 - acc: 0.9350\n",
      "Epoch 7/10\n",
      " - 1s - loss: 0.4595 - acc: 0.9417\n",
      "Epoch 8/10\n",
      " - 1s - loss: 0.4093 - acc: 0.9478\n",
      "Epoch 9/10\n",
      " - 1s - loss: 0.3623 - acc: 0.9572\n",
      "Epoch 10/10\n",
      " - 1s - loss: 0.3207 - acc: 0.9639\n",
      "Test Accuracy: 88.000000\n"
     ]
    }
   ],
   "source": [
    "model = define_model(n_words)\n",
    "# fit network\n",
    "model.fit(Xtrain, ytrain, epochs=10, verbose=2)\n",
    "# evaluate\n",
    "loss, acc = model.evaluate(Xtest, ytest, verbose=0)\n",
    "print('Test Accuracy: %f' % (acc*100))"
   ]
  },
  {
   "cell_type": "markdown",
   "metadata": {},
   "source": [
    "Accuracy of 87% on the test data"
   ]
  },
  {
   "cell_type": "code",
   "execution_count": 36,
   "metadata": {},
   "outputs": [
    {
     "data": {
      "image/png": "[encoded data removed]",
      "text/plain": [
       "<IPython.core.display.Image object>"
      ]
     },
     "execution_count": 36,
     "metadata": {
      "image/png": {
       "width": 400
      }
     },
     "output_type": "execute_result"
    }
   ],
   "source": [
    "Image(\"img/model.png\",width = 400)"
   ]
  },
  {
   "cell_type": "markdown",
   "metadata": {},
   "source": [
    "### Comparing the word scoring methods"
   ]
  },
  {
   "cell_type": "markdown",
   "metadata": {},
   "source": [
    "The texts to matrix() function for the Tokenizer in the Keras API provides 4 different\n",
    "methods for scoring words:\n",
    "- binary Where words are marked as present (1) or absent (0).\n",
    "- count Where the occurrence count for each word is marked as an integer.\n",
    "- tfidf Where each word is scored based on their frequency, where words that are common across all documents are penalized.\n",
    "- freq Where words are scored based on their frequency of occurrence within the document.\n",
    "\n",
    "Try to evaluate the skill of the model developed in the previous section fit using each of the\n",
    "4 supported word scoring modes. This first involves the development of a function to create an\n",
    "encoding of the loaded documents based on a chosen scoring model. The function creates the\n",
    "tokenizer, fits it on the training documents, then creates the train and test encodings using the\n",
    "chosen model. The function prepare data() implements this behavior given lists of train and\n",
    "test documents."
   ]
  },
  {
   "cell_type": "code",
   "execution_count": 16,
   "metadata": {},
   "outputs": [],
   "source": [
    "def prepare_data(train_docs,test_docs,mode):\n",
    "    #create tokenizer\n",
    "    tokenizer = Tokenizer()\n",
    "    #fit the tokenizer\n",
    "    tokenizer.fit_on_texts(train_docs)\n",
    "    #encode the training data\n",
    "    Xtrain = tokenizer.texts_to_matrix(train_docs,mode=mode)\n",
    "    # encode training data set\n",
    "    Xtest = tokenizer.texts_to_matrix(test_docs, mode=mode)\n",
    "    return Xtrain, Xtest  "
   ]
  },
  {
   "cell_type": "markdown",
   "metadata": {},
   "source": [
    "As neural networks are stochastic, they can produce different results when the same model is fit on\n",
    "the same data, because of the random initial weights and the shuffling of patterns\n",
    "during mini-batch gradient descent. This means that any one scoring of a model is unreliable\n",
    "and we should estimate model skill based on an average of multiple runs. Function below takes encoded documents and evaluates the MLP by training it on\n",
    "the train set and estimating skill on the test set 10 times and returns a list of the accuracy\n",
    "scores across all of these runs."
   ]
  },
  {
   "cell_type": "code",
   "execution_count": 19,
   "metadata": {},
   "outputs": [],
   "source": [
    "# evaluate a neural network model\n",
    "def evaluate_mode(Xtrain, ytrain, Xtest, ytest):\n",
    "    scores = list()\n",
    "    n_repeats = 10\n",
    "    n_words = Xtest.shape[1]\n",
    "    for i in range(n_repeats):\n",
    "        # define network\n",
    "        model = Sequential()\n",
    "        model.add(Dense(50, input_shape=(n_words,), activation='relu'))\n",
    "        model.add(Dense(1, activation='sigmoid'))\n",
    "        # compile network\n",
    "        model.compile(loss='binary_crossentropy', optimizer='adam', metrics=['accuracy'])\n",
    "        # fit network\n",
    "        model.fit(Xtrain, ytrain, epochs=5, verbose=0)\n",
    "        # evaluate\n",
    "        loss, acc = model.evaluate(Xtest, ytest, verbose=0)\n",
    "        scores.append(acc)\n",
    "        print('%d accuracy: %s' % ((i+1), acc))\n",
    "    return scores"
   ]
  },
  {
   "cell_type": "code",
   "execution_count": 20,
   "metadata": {},
   "outputs": [
    {
     "name": "stdout",
     "output_type": "stream",
     "text": [
      "1 accuracy: 0.925\n",
      "2 accuracy: 0.925\n",
      "3 accuracy: 0.94\n",
      "4 accuracy: 0.935\n",
      "5 accuracy: 0.925\n",
      "6 accuracy: 0.94\n",
      "7 accuracy: 0.925\n",
      "8 accuracy: 0.935\n",
      "9 accuracy: 0.925\n",
      "10 accuracy: 0.93\n",
      "1 accuracy: 0.895\n",
      "2 accuracy: 0.905\n",
      "3 accuracy: 0.895\n",
      "4 accuracy: 0.895\n",
      "5 accuracy: 0.905\n",
      "6 accuracy: 0.89\n",
      "7 accuracy: 0.895\n",
      "8 accuracy: 0.88\n",
      "9 accuracy: 0.91\n",
      "10 accuracy: 0.895\n",
      "1 accuracy: 0.855\n",
      "2 accuracy: 0.865\n",
      "3 accuracy: 0.89\n",
      "4 accuracy: 0.875\n",
      "5 accuracy: 0.88\n",
      "6 accuracy: 0.89\n",
      "7 accuracy: 0.885\n",
      "8 accuracy: 0.875\n",
      "9 accuracy: 0.875\n",
      "10 accuracy: 0.885\n",
      "1 accuracy: 0.85\n",
      "2 accuracy: 0.825\n",
      "3 accuracy: 0.83\n",
      "4 accuracy: 0.865\n",
      "5 accuracy: 0.81\n",
      "6 accuracy: 0.825\n",
      "7 accuracy: 0.855\n",
      "8 accuracy: 0.86\n",
      "9 accuracy: 0.865\n",
      "10 accuracy: 0.835\n"
     ]
    }
   ],
   "source": [
    "# run experiment\n",
    "modes = ['binary', 'count', 'tfidf', 'freq']\n",
    "results = DataFrame()\n",
    "for mode in modes:\n",
    "    # prepare data for mode\n",
    "    Xtrain, Xtest = prepare_data(train_docs, test_docs, mode)\n",
    "    # evaluate model on data for mode\n",
    "    results[mode] = evaluate_mode(Xtrain, ytrain, Xtest, ytest)\n",
    "    # summarize results\n",
    "    #print(results.describe())\n",
    "    # plot results\n",
    "    #results.boxplot()\n",
    "    #pyplot.show()"
   ]
  },
  {
   "cell_type": "code",
   "execution_count": 39,
   "metadata": {},
   "outputs": [
    {
     "data": {
      "text/plain": [
       "Text(0,0.5,'Accuracy')"
      ]
     },
     "execution_count": 39,
     "metadata": {},
     "output_type": "execute_result"
    },
    {
     "data": {
      "image/png": "[encoded data removed]",
      "text/plain": [
       "<Figure size 432x288 with 1 Axes>"
      ]
     },
     "metadata": {},
     "output_type": "display_data"
    }
   ],
   "source": [
    "results.boxplot()\n",
    "pyplot.title('Comparison of tokenizer methods')\n",
    "pyplot.ylabel('Accuracy')"
   ]
  },
  {
   "cell_type": "code",
   "execution_count": 41,
   "metadata": {},
   "outputs": [
    {
     "name": "stdout",
     "output_type": "stream",
     "text": [
      "          binary      count      tfidf       freq\n",
      "count  10.000000  10.000000  10.000000  10.000000\n",
      "mean    0.930500   0.896500   0.877500   0.842000\n",
      "std     0.006433   0.008515   0.011118   0.019465\n",
      "min     0.925000   0.880000   0.855000   0.810000\n",
      "25%     0.925000   0.895000   0.875000   0.826250\n",
      "50%     0.927500   0.895000   0.877500   0.842500\n",
      "75%     0.935000   0.902500   0.885000   0.858750\n",
      "max     0.940000   0.910000   0.890000   0.865000\n"
     ]
    }
   ],
   "source": [
    "#pandas summary of data\n",
    "print(results.describe())"
   ]
  },
  {
   "cell_type": "markdown",
   "metadata": {},
   "source": [
    "Binary results in best accuracy and simplest spread"
   ]
  },
  {
   "cell_type": "markdown",
   "metadata": {},
   "source": [
    "### Predicting Sentiment for New Reviews\n",
    "\n",
    "Develop and use a final model to make predictions for new textual reviews.  First train a final model on all of the\n",
    "available data. We will use the binary mode for scoring the bag-of-words model that was shown\n",
    "to give the best results in the previous section.\n",
    "\n",
    "Predicting the sentiment of new reviews involves following the same steps used to prepare\n",
    "the test data. Specifically, loading the text, cleaning the document, filtering tokens by the\n",
    "chosen vocabulary, converting the remaining tokens to a line, encoding it using the Tokenizer,\n",
    "and making a prediction. We can make a prediction of a class value directly with the fit model\n",
    "by calling predict() that will return an integer of 0 for a negative review and 1 for a positive\n",
    "review. \n",
    "\n",
    "All of these steps can be put into a new function called predict sentiment() that\n",
    "requires the review text, the vocabulary, the tokenizer, and the fit model and returns the\n",
    "predicted sentiment and an associated percentage or confidence-like output."
   ]
  },
  {
   "cell_type": "code",
   "execution_count": 52,
   "metadata": {},
   "outputs": [],
   "source": [
    "# classify a review as negative or positive\n",
    "def predict_sentiment(review, vocab, tokenizer, model):\n",
    "    # clean\n",
    "    tokens = clean_doc(review)\n",
    "    # filter by vocab\n",
    "    tokens = [w for w in tokens if w in vocab]\n",
    "    # convert to line\n",
    "    line = ' '.join(tokens)\n",
    "    #print(line)\n",
    "    # encode\n",
    "    encoded = tokenizer.texts_to_matrix([line], mode='binary')\n",
    "    # predict sentiment\n",
    "    yhat = model.predict(encoded, verbose=0)\n",
    "    #print(yhat)\n",
    "    # retrieve predicted percentage and label\n",
    "    percent_pos = yhat[0,0]\n",
    "\n",
    "    if round(percent_pos) == 0:\n",
    "        return (1-percent_pos), 'NEGATIVE'\n",
    "    return percent_pos, 'POSITIVE'"
   ]
  },
  {
   "cell_type": "markdown",
   "metadata": {},
   "source": [
    "Make predictions for new movie texts"
   ]
  },
  {
   "cell_type": "code",
   "execution_count": 57,
   "metadata": {},
   "outputs": [
    {
     "name": "stdout",
     "output_type": "stream",
     "text": [
      "_________________________________________________________________\n",
      "Layer (type)                 Output Shape              Param #   \n",
      "=================================================================\n",
      "dense_157 (Dense)            (None, 60)                886920    \n",
      "_________________________________________________________________\n",
      "dense_158 (Dense)            (None, 1)                 61        \n",
      "=================================================================\n",
      "Total params: 886,981\n",
      "Trainable params: 886,981\n",
      "Non-trainable params: 0\n",
      "_________________________________________________________________\n",
      "Epoch 1/10\n",
      " - 2s - loss: 0.4673 - acc: 0.7728\n",
      "Epoch 2/10\n",
      " - 1s - loss: 0.0664 - acc: 0.9911\n",
      "Epoch 3/10\n",
      " - 0s - loss: 0.0172 - acc: 1.0000\n",
      "Epoch 4/10\n",
      " - 0s - loss: 0.0076 - acc: 1.0000\n",
      "Epoch 5/10\n",
      " - 1s - loss: 0.0042 - acc: 1.0000\n",
      "Epoch 6/10\n",
      " - 1s - loss: 0.0026 - acc: 1.0000\n",
      "Epoch 7/10\n",
      " - 1s - loss: 0.0017 - acc: 1.0000\n",
      "Epoch 8/10\n",
      " - 1s - loss: 0.0012 - acc: 1.0000\n",
      "Epoch 9/10\n",
      " - 0s - loss: 8.1990e-04 - acc: 1.0000\n",
      "Epoch 10/10\n",
      " - 1s - loss: 6.0387e-04 - acc: 1.0000\n",
      "\n",
      "\n",
      "Review: [Best movie ever! It was great, I recommend it.]\n",
      "Sentiment: POSITIVE (58.520%)\n",
      "Review: [This is a bad movie.]\n",
      "Sentiment: NEGATIVE (65.492%)\n"
     ]
    }
   ],
   "source": [
    "# load the vocabulary\n",
    "vocab_filename = 'vocab.txt'\n",
    "vocab = load_doc(vocab_filename)\n",
    "vocab = set(vocab.split())\n",
    "\n",
    "# load all reviews\n",
    "train_docs, ytrain = load_clean_dataset(vocab)\n",
    "test_docs, ytest = load_clean_dataset(vocab)\n",
    "\n",
    "# create the tokenizer\n",
    "tokenizer = create_tokenizer(train_docs)\n",
    "\n",
    "# encode data\n",
    "Xtrain = tokenizer.texts_to_matrix(train_docs, mode='binary')\n",
    "Xtest = tokenizer.texts_to_matrix(test_docs, mode='binary')\n",
    "\n",
    "# define network\n",
    "n_words = Xtrain.shape[1]\n",
    "model = define_model(n_words)\n",
    "\n",
    "# fit network\n",
    "model.fit(Xtrain, ytrain, epochs=10, verbose=2)\n",
    "print('\\n')\n",
    "# test positive text\n",
    "text = 'Best movie ever! It was great, I recommend it.'\n",
    "percent, sentiment = predict_sentiment(text, vocab, tokenizer, model)\n",
    "print('Review: [%s]\\nSentiment: %s (%.3f%%)' % (text, sentiment, percent*100))\n",
    "# test negative text\n",
    "text = 'This is a bad movie.'\n",
    "percent, sentiment = predict_sentiment(text, vocab, tokenizer, model)\n",
    "print('Review: [%s]\\nSentiment: %s (%.3f%%)' % (text, sentiment, percent*100))"
   ]
  },
  {
   "cell_type": "code",
   "execution_count": null,
   "metadata": {},
   "outputs": [],
   "source": []
  }
 ],
 "metadata": {
  "kernelspec": {
   "display_name": "Python 3",
   "language": "python",
   "name": "python3"
  },
  "language_info": {
   "codemirror_mode": {
    "name": "ipython",
    "version": 3
   },
   "file_extension": ".py",
   "mimetype": "text/x-python",
   "name": "python",
   "nbconvert_exporter": "python",
   "pygments_lexer": "ipython3",
   "version": "3.6.4"
  }
 },
 "nbformat": 4,
 "nbformat_minor": 2
}

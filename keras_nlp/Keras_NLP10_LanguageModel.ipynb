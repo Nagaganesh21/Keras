{
 "cells": [
  {
   "cell_type": "markdown",
   "metadata": {},
   "source": [
    "### Develop a character based neural language model\n",
    "\n",
    "A language model predicts the next word in the sequence based on the specific words that have\n",
    "come before it in the sequence.  \n",
    "\n",
    "Tasks:\n",
    "- Prepare text for character-based language modeling.\n",
    "- Develop a character-based language model using LSTMs.\n",
    "- Use a trained character-based language model to generate text.\n"
   ]
  },
  {
   "cell_type": "code",
   "execution_count": 59,
   "metadata": {},
   "outputs": [],
   "source": [
    "import numpy as np\n",
    "from pickle import dump\n",
    "from keras.utils import to_categorical\n",
    "from keras.utils.vis_utils import plot_model\n",
    "from keras.models import Sequential\n",
    "from keras.layers import Dense\n",
    "from keras.layers import LSTM\n",
    "from pickle import load\n",
    "from keras.preprocessing.sequence import pad_sequences\n",
    "import os\n",
    "from IPython.display import Image\n",
    "os.environ[\"PATH\"] += os.pathsep +  'C:\\\\Users/richard\\\\Anaconda3\\\\pkgs\\\\graphviz-2.38-hfd603c8_2\\\\Library\\\\bin\\\\graphviz'\n",
    "\n"
   ]
  },
  {
   "cell_type": "markdown",
   "metadata": {},
   "source": [
    "**Try using following nursery rhyme as our language model:**\n",
    "\n",
    "Sing a song of sixpence,\n",
    "A pocket full of rye.\n",
    "Four and twenty blackbirds,\n",
    "Baked in a pie.\n",
    "\n",
    "When the pie was opened\n",
    "The birds began to sing;\n",
    "Wasn't that a dainty dish,\n",
    "To set before the king.\n",
    "\n",
    "The king was in his counting house,\n",
    "Counting out his money;\n",
    "The queen was in the parlour,\n",
    "Eating bread and honey.\n",
    "\n",
    "The maid was in the garden,\n",
    "Hanging out the clothes,\n",
    "When down came a blackbird\n",
    "And pecked off her nose.\n",
    "\n",
    "**saved as rhyme.txt**"
   ]
  },
  {
   "cell_type": "code",
   "execution_count": 60,
   "metadata": {},
   "outputs": [],
   "source": [
    "def load_doc(filename):\n",
    "    file = open(filename,'r')\n",
    "    text = file.read()\n",
    "    file.close()\n",
    "    return text"
   ]
  },
  {
   "cell_type": "code",
   "execution_count": 61,
   "metadata": {},
   "outputs": [
    {
     "name": "stdout",
     "output_type": "stream",
     "text": [
      "Sing a song of sixpence,\n",
      "A pocket full of rye.\n",
      "Four and twenty blackbirds,\n",
      "Baked in a pie.\n",
      "\n",
      "When the pie was opened\n",
      "The birds began to sing;\n",
      "Wasn't that a dainty dish,\n",
      "To set before the king.\n",
      "\n",
      "The king was in his counting house,\n",
      "Counting out his money;\n",
      "The queen was in the parlour,\n",
      "Eating bread and honey.\n",
      "\n",
      "The maid was in the garden,\n",
      "Hanging out the clothes,\n",
      "When down came a blackbird\n",
      "And pecked off her nose.\n"
     ]
    }
   ],
   "source": [
    "filename = 'rhyme.txt'\n",
    "text = load_doc(filename)\n",
    "print(text)"
   ]
  },
  {
   "cell_type": "code",
   "execution_count": 62,
   "metadata": {},
   "outputs": [],
   "source": [
    "#one sequnce of lower case chars\n",
    "tokens = text.split()\n",
    "raw_text = ' '.join(tokens)"
   ]
  },
  {
   "cell_type": "code",
   "execution_count": 63,
   "metadata": {},
   "outputs": [
    {
     "data": {
      "text/plain": [
       "\"Sing a song of sixpence, A pocket full of rye. Four and twenty blackbirds, Baked in a pie. When the pie was opened The birds began to sing; Wasn't that a dainty dish, To set before the king. The king was in his counting house, Counting out his money; The queen was in the parlour, Eating bread and honey. The maid was in the garden, Hanging out the clothes, When down came a blackbird And pecked off her nose.\""
      ]
     },
     "execution_count": 63,
     "metadata": {},
     "output_type": "execute_result"
    }
   ],
   "source": [
    "raw_text"
   ]
  },
  {
   "cell_type": "markdown",
   "metadata": {},
   "source": [
    "### Create Sequences"
   ]
  },
  {
   "cell_type": "code",
   "execution_count": 64,
   "metadata": {},
   "outputs": [
    {
     "name": "stdout",
     "output_type": "stream",
     "text": [
      "Total Sequences: 399\n"
     ]
    },
    {
     "data": {
      "text/plain": [
       "['Sing a song', 'ing a song ', 'ng a song o', 'g a song of', ' a song of ']"
      ]
     },
     "execution_count": 64,
     "metadata": {},
     "output_type": "execute_result"
    }
   ],
   "source": [
    "#make a sliding window,of 11 chars, first 10 will be input, last one the output  \n",
    "length = 10\n",
    "sequences = list()\n",
    "for i in range(length,len(raw_text)):\n",
    "    seq = raw_text[i-length:i+1]\n",
    "    sequences.append(seq)\n",
    "print('Total Sequences: %d' % len(sequences))\n",
    "sequences[0:5]"
   ]
  },
  {
   "cell_type": "code",
   "execution_count": 65,
   "metadata": {},
   "outputs": [
    {
     "data": {
      "text/plain": [
       "['Sing a song', 'ing a song ', 'ng a song o', 'g a song of', ' a song of ']"
      ]
     },
     "execution_count": 65,
     "metadata": {},
     "output_type": "execute_result"
    }
   ],
   "source": [
    "sequences[0:5]"
   ]
  },
  {
   "cell_type": "code",
   "execution_count": 66,
   "metadata": {},
   "outputs": [],
   "source": [
    "#make function to save sequnces\n",
    "def save_doc(lines,filename):\n",
    "    data = '\\n'.join(lines)\n",
    "    file = open(filename,'w')\n",
    "    file.write(data)\n",
    "    file.close()"
   ]
  },
  {
   "cell_type": "code",
   "execution_count": 67,
   "metadata": {},
   "outputs": [],
   "source": [
    "#save sequences\n",
    "out_filename = 'char_sequences.txt'\n",
    "save_doc(sequences,out_filename)"
   ]
  },
  {
   "cell_type": "code",
   "execution_count": 68,
   "metadata": {},
   "outputs": [
    {
     "name": "stdout",
     "output_type": "stream",
     "text": [
      "Sing a song\n",
      "ing a so\n"
     ]
    }
   ],
   "source": [
    "filename = 'char_sequences.txt'\n",
    "text = load_doc(filename)\n",
    "print(text[:20])"
   ]
  },
  {
   "cell_type": "markdown",
   "metadata": {},
   "source": [
    "### Train Language Model\n",
    "The model will read encoded characters and predict the next character in the sequence. A Long\n",
    "Short-Term Memory recurrent neural network hidden layer will be used to learn the context\n",
    "from the input sequence in order to make the predictions."
   ]
  },
  {
   "cell_type": "code",
   "execution_count": 69,
   "metadata": {},
   "outputs": [],
   "source": [
    "#load the sequences\n",
    "# load\n",
    "in_filename = 'char_sequences.txt'\n",
    "raw_text = load_doc(in_filename)\n",
    "lines = raw_text.split('\\n')"
   ]
  },
  {
   "cell_type": "code",
   "execution_count": 70,
   "metadata": {},
   "outputs": [
    {
     "data": {
      "text/plain": [
       "['Sing a song',\n",
       " 'ing a song ',\n",
       " 'ng a song o',\n",
       " 'g a song of',\n",
       " ' a song of ',\n",
       " 'a song of s',\n",
       " ' song of si',\n",
       " 'song of six',\n",
       " 'ong of sixp',\n",
       " 'ng of sixpe']"
      ]
     },
     "execution_count": 70,
     "metadata": {},
     "output_type": "execute_result"
    }
   ],
   "source": [
    "lines[0:10]"
   ]
  },
  {
   "cell_type": "markdown",
   "metadata": {},
   "source": [
    "### Encode Sequences\n",
    "The sequences of characters must be encoded as integers. This means that each unique character\n",
    "will be assigned a specific integer value and each sequence of characters will be encoded as a\n",
    "sequence of integers. We can create the mapping given a sorted set of unique characters in the\n",
    "raw input data. The mapping is a dictionary of character values to integer values"
   ]
  },
  {
   "cell_type": "code",
   "execution_count": 71,
   "metadata": {},
   "outputs": [
    {
     "name": "stdout",
     "output_type": "stream",
     "text": [
      "['\\n', ' ', \"'\", ',', '.', ';', 'A', 'B', 'C', 'E', 'F', 'H', 'S', 'T', 'W', 'a', 'b', 'c', 'd', 'e', 'f', 'g', 'h', 'i', 'k', 'l', 'm', 'n', 'o', 'p', 'q', 'r', 's', 't', 'u', 'w', 'x', 'y']\n"
     ]
    }
   ],
   "source": [
    "chars = sorted(list(set(raw_text)))\n",
    "print(chars)"
   ]
  },
  {
   "cell_type": "code",
   "execution_count": 72,
   "metadata": {},
   "outputs": [
    {
     "name": "stdout",
     "output_type": "stream",
     "text": [
      "{'\\n': 0, ' ': 1, \"'\": 2, ',': 3, '.': 4, ';': 5, 'A': 6, 'B': 7, 'C': 8, 'E': 9, 'F': 10, 'H': 11, 'S': 12, 'T': 13, 'W': 14, 'a': 15, 'b': 16, 'c': 17, 'd': 18, 'e': 19, 'f': 20, 'g': 21, 'h': 22, 'i': 23, 'k': 24, 'l': 25, 'm': 26, 'n': 27, 'o': 28, 'p': 29, 'q': 30, 'r': 31, 's': 32, 't': 33, 'u': 34, 'w': 35, 'x': 36, 'y': 37}\n"
     ]
    }
   ],
   "source": [
    "mapping = dict((c,i) for i,c in enumerate(chars))\n",
    "print(mapping)"
   ]
  },
  {
   "cell_type": "code",
   "execution_count": 73,
   "metadata": {},
   "outputs": [],
   "source": [
    "#process each sequence of chars, use dictionary mapping to look up int value for each char\n",
    "sequences = []\n",
    "for line in lines:\n",
    "    encoded_seq = [mapping[char] for char in line]\n",
    "    sequences.append(encoded_seq)"
   ]
  },
  {
   "cell_type": "code",
   "execution_count": 74,
   "metadata": {},
   "outputs": [
    {
     "name": "stdout",
     "output_type": "stream",
     "text": [
      "Sequence:  Sing a song\n",
      "Correponding integer values:  [12, 23, 27, 21, 1, 15, 1, 32, 28, 27, 21]\n"
     ]
    }
   ],
   "source": [
    "print(\"Sequence: \",lines[0])\n",
    "print(\"Correponding integer values: \",sequences[0])"
   ]
  },
  {
   "cell_type": "code",
   "execution_count": 75,
   "metadata": {},
   "outputs": [
    {
     "name": "stdout",
     "output_type": "stream",
     "text": [
      "Vocabulary Size: 38\n"
     ]
    }
   ],
   "source": [
    "# vocabulary size\n",
    "vocab_size = len(mapping)\n",
    "print('Vocabulary Size: %d' % vocab_size)\n"
   ]
  },
  {
   "cell_type": "markdown",
   "metadata": {},
   "source": [
    "### Split Inputs and Outputs"
   ]
  },
  {
   "cell_type": "code",
   "execution_count": 76,
   "metadata": {},
   "outputs": [
    {
     "name": "stdout",
     "output_type": "stream",
     "text": [
      "[[12, 23, 27, 21, 1, 15, 1, 32, 28, 27, 21], [23, 27, 21, 1, 15, 1, 32, 28, 27, 21, 1], [27, 21, 1, 15, 1, 32, 28, 27, 21, 1, 28], [21, 1, 15, 1, 32, 28, 27, 21, 1, 28, 20]]\n"
     ]
    }
   ],
   "source": [
    "#Separate the columns into input andoutput sequences of characters\n",
    "print(sequences[0:4])"
   ]
  },
  {
   "cell_type": "code",
   "execution_count": 77,
   "metadata": {},
   "outputs": [],
   "source": [
    "import numpy as np\n",
    "sequences = np.array(sequences)"
   ]
  },
  {
   "cell_type": "code",
   "execution_count": 78,
   "metadata": {},
   "outputs": [
    {
     "name": "stdout",
     "output_type": "stream",
     "text": [
      "(399, 11)\n",
      "[[12 23 27 21  1 15  1 32 28 27 21]\n",
      " [23 27 21  1 15  1 32 28 27 21  1]\n",
      " [27 21  1 15  1 32 28 27 21  1 28]\n",
      " [21  1 15  1 32 28 27 21  1 28 20]]\n"
     ]
    }
   ],
   "source": [
    "print(sequences.shape)\n",
    "print(sequences[:4])"
   ]
  },
  {
   "cell_type": "code",
   "execution_count": 79,
   "metadata": {},
   "outputs": [],
   "source": [
    "#get every row and all but last column as input\n",
    "#get output as last entry in every row\n",
    "X,y = sequences[:,:-1],sequences[:,-1]"
   ]
  },
  {
   "cell_type": "markdown",
   "metadata": {},
   "source": [
    "One hot encode each character. Each character becomes a vector as\n",
    "long as the vocabulary with a 1 marked for the specific character. Provides a clear objective for the\n",
    "network to predict, where a probability distribution over characters can be output by the model\n",
    "and compared to the ideal case of all 0 values with a 1 for the actual next character. Use the to categorical() function in the Keras API to one hot encode the input and output\n",
    "sequences."
   ]
  },
  {
   "cell_type": "code",
   "execution_count": 80,
   "metadata": {},
   "outputs": [],
   "source": [
    "sequences = [to_categorical(x,num_classes=vocab_size) for x in X]\n",
    "#X = np.array(sequences)\n",
    "#y = to_categorical(y, num_classes=vocab_size)"
   ]
  },
  {
   "cell_type": "code",
   "execution_count": 81,
   "metadata": {},
   "outputs": [
    {
     "name": "stdout",
     "output_type": "stream",
     "text": [
      "[12 23 27 21  1 15  1 32 28 27]\n",
      "[[0. 0. 0. 0. 0. 0. 0. 0. 0. 0. 0. 0. 1. 0. 0. 0. 0. 0. 0. 0. 0. 0. 0. 0.\n",
      "  0. 0. 0. 0. 0. 0. 0. 0. 0. 0. 0. 0. 0. 0.]\n",
      " [0. 0. 0. 0. 0. 0. 0. 0. 0. 0. 0. 0. 0. 0. 0. 0. 0. 0. 0. 0. 0. 0. 0. 1.\n",
      "  0. 0. 0. 0. 0. 0. 0. 0. 0. 0. 0. 0. 0. 0.]\n",
      " [0. 0. 0. 0. 0. 0. 0. 0. 0. 0. 0. 0. 0. 0. 0. 0. 0. 0. 0. 0. 0. 0. 0. 0.\n",
      "  0. 0. 0. 1. 0. 0. 0. 0. 0. 0. 0. 0. 0. 0.]\n",
      " [0. 0. 0. 0. 0. 0. 0. 0. 0. 0. 0. 0. 0. 0. 0. 0. 0. 0. 0. 0. 0. 1. 0. 0.\n",
      "  0. 0. 0. 0. 0. 0. 0. 0. 0. 0. 0. 0. 0. 0.]\n",
      " [0. 1. 0. 0. 0. 0. 0. 0. 0. 0. 0. 0. 0. 0. 0. 0. 0. 0. 0. 0. 0. 0. 0. 0.\n",
      "  0. 0. 0. 0. 0. 0. 0. 0. 0. 0. 0. 0. 0. 0.]\n",
      " [0. 0. 0. 0. 0. 0. 0. 0. 0. 0. 0. 0. 0. 0. 0. 1. 0. 0. 0. 0. 0. 0. 0. 0.\n",
      "  0. 0. 0. 0. 0. 0. 0. 0. 0. 0. 0. 0. 0. 0.]\n",
      " [0. 1. 0. 0. 0. 0. 0. 0. 0. 0. 0. 0. 0. 0. 0. 0. 0. 0. 0. 0. 0. 0. 0. 0.\n",
      "  0. 0. 0. 0. 0. 0. 0. 0. 0. 0. 0. 0. 0. 0.]\n",
      " [0. 0. 0. 0. 0. 0. 0. 0. 0. 0. 0. 0. 0. 0. 0. 0. 0. 0. 0. 0. 0. 0. 0. 0.\n",
      "  0. 0. 0. 0. 0. 0. 0. 0. 1. 0. 0. 0. 0. 0.]\n",
      " [0. 0. 0. 0. 0. 0. 0. 0. 0. 0. 0. 0. 0. 0. 0. 0. 0. 0. 0. 0. 0. 0. 0. 0.\n",
      "  0. 0. 0. 0. 1. 0. 0. 0. 0. 0. 0. 0. 0. 0.]\n",
      " [0. 0. 0. 0. 0. 0. 0. 0. 0. 0. 0. 0. 0. 0. 0. 0. 0. 0. 0. 0. 0. 0. 0. 0.\n",
      "  0. 0. 0. 1. 0. 0. 0. 0. 0. 0. 0. 0. 0. 0.]]\n"
     ]
    }
   ],
   "source": [
    "#each entry encoded as array with 1 at integer value\n",
    "print(X[0])\n",
    "print(sequences[0])"
   ]
  },
  {
   "cell_type": "code",
   "execution_count": 82,
   "metadata": {},
   "outputs": [],
   "source": [
    "X = np.array(sequences)\n",
    "y = to_categorical(y, num_classes=vocab_size)"
   ]
  },
  {
   "cell_type": "markdown",
   "metadata": {},
   "source": [
    "### Fit Model\n",
    "The model is defined with an input layer that takes sequences that have 10 time steps and vocab size\n",
    "features for the one hot encoded input sequences. Specify these numbers, we use\n",
    "the second and third dimensions on the X input data. This is so that if we change the length of\n",
    "the sequences or size of the vocabulary, we do not need to change the model definition. The\n",
    "model has a single LSTM hidden layer with 75 memory cells, chosen with a little trial and\n",
    "error. The model has a fully connected output layer that outputs one vector with a probability\n",
    "distribution across all characters in the vocabulary. A softmax activation function is used on\n",
    "the output layer to ensure the output has the properties of a probability distribution"
   ]
  },
  {
   "cell_type": "code",
   "execution_count": 83,
   "metadata": {},
   "outputs": [
    {
     "data": {
      "text/plain": [
       "(399, 10, 38)"
      ]
     },
     "execution_count": 83,
     "metadata": {},
     "output_type": "execute_result"
    }
   ],
   "source": [
    "X.shape"
   ]
  },
  {
   "cell_type": "code",
   "execution_count": 84,
   "metadata": {},
   "outputs": [],
   "source": [
    "#define the model\n",
    "def define_model(X):\n",
    "    model = Sequential()\n",
    "    model.add(LSTM(75,input_shape=(X.shape[1],X.shape[2])))\n",
    "    model.add(Dense(vocab_size,activation='softmax'))\n",
    "    #compile the model\n",
    "    model.compile(loss='categorical_crossentropy',optimizer='adam',metrics = ['accuracy'])\n",
    "    model.summary()\n",
    "    plot_model(model,to_file='img/model18.png',show_shapes=True)\n",
    "    return model"
   ]
  },
  {
   "cell_type": "markdown",
   "metadata": {},
   "source": [
    "A multiclass classification problem, therefore we use the categorical log\n",
    "loss. The efficient Adam implementation of gradient descent\n",
    "is used to optimize the model and accuracy is reported at the end of each batch update. The model is fit for 100 training epochs, again found with a little trial and error. Running this prints\n",
    "a summary of the defined network as a sanity check."
   ]
  },
  {
   "cell_type": "code",
   "execution_count": 85,
   "metadata": {},
   "outputs": [
    {
     "name": "stdout",
     "output_type": "stream",
     "text": [
      "_________________________________________________________________\n",
      "Layer (type)                 Output Shape              Param #   \n",
      "=================================================================\n",
      "lstm_2 (LSTM)                (None, 75)                34200     \n",
      "_________________________________________________________________\n",
      "dense_2 (Dense)              (None, 38)                2888      \n",
      "=================================================================\n",
      "Total params: 37,088\n",
      "Trainable params: 37,088\n",
      "Non-trainable params: 0\n",
      "_________________________________________________________________\n",
      "Epoch 1/100\n",
      " - 1s - loss: 3.6145 - acc: 0.0702\n",
      "Epoch 2/100\n",
      " - 0s - loss: 3.5191 - acc: 0.1855\n",
      "Epoch 3/100\n",
      " - 0s - loss: 3.2231 - acc: 0.1905\n",
      "Epoch 4/100\n",
      " - 0s - loss: 3.0865 - acc: 0.1905\n",
      "Epoch 5/100\n",
      " - 0s - loss: 3.0234 - acc: 0.1905\n",
      "Epoch 6/100\n",
      " - 0s - loss: 2.9978 - acc: 0.1905\n",
      "Epoch 7/100\n",
      " - 0s - loss: 2.9750 - acc: 0.1905\n",
      "Epoch 8/100\n",
      " - 0s - loss: 2.9650 - acc: 0.1905\n",
      "Epoch 9/100\n",
      " - 0s - loss: 2.9450 - acc: 0.1905\n",
      "Epoch 10/100\n",
      " - 0s - loss: 2.9333 - acc: 0.1905\n",
      "Epoch 11/100\n",
      " - 0s - loss: 2.9049 - acc: 0.1905\n",
      "Epoch 12/100\n",
      " - 0s - loss: 2.8849 - acc: 0.1905\n",
      "Epoch 13/100\n",
      " - 0s - loss: 2.8567 - acc: 0.1955\n",
      "Epoch 14/100\n",
      " - 0s - loss: 2.8195 - acc: 0.2331\n",
      "Epoch 15/100\n",
      " - 0s - loss: 2.7857 - acc: 0.2080\n",
      "Epoch 16/100\n",
      " - 0s - loss: 2.7473 - acc: 0.2381\n",
      "Epoch 17/100\n",
      " - 0s - loss: 2.7038 - acc: 0.2506\n",
      "Epoch 18/100\n",
      " - 0s - loss: 2.6634 - acc: 0.2531\n",
      "Epoch 19/100\n",
      " - 0s - loss: 2.6246 - acc: 0.2682\n",
      "Epoch 20/100\n",
      " - 0s - loss: 2.5864 - acc: 0.2907\n",
      "Epoch 21/100\n",
      " - 0s - loss: 2.5313 - acc: 0.3008\n",
      "Epoch 22/100\n",
      " - 0s - loss: 2.4872 - acc: 0.3083\n",
      "Epoch 23/100\n",
      " - 0s - loss: 2.4493 - acc: 0.3133\n",
      "Epoch 24/100\n",
      " - 0s - loss: 2.3943 - acc: 0.3358\n",
      "Epoch 25/100\n",
      " - 0s - loss: 2.3669 - acc: 0.3383\n",
      "Epoch 26/100\n",
      " - 0s - loss: 2.3342 - acc: 0.3358\n",
      "Epoch 27/100\n",
      " - 0s - loss: 2.2786 - acc: 0.3659\n",
      "Epoch 28/100\n",
      " - 0s - loss: 2.2207 - acc: 0.3810\n",
      "Epoch 29/100\n",
      " - 0s - loss: 2.1962 - acc: 0.3684\n",
      "Epoch 30/100\n",
      " - 0s - loss: 2.1608 - acc: 0.3860\n",
      "Epoch 31/100\n",
      " - 0s - loss: 2.1248 - acc: 0.4035\n",
      "Epoch 32/100\n",
      " - 0s - loss: 2.0720 - acc: 0.3835\n",
      "Epoch 33/100\n",
      " - 0s - loss: 2.0271 - acc: 0.4386\n",
      "Epoch 34/100\n",
      " - 0s - loss: 1.9763 - acc: 0.4411\n",
      "Epoch 35/100\n",
      " - 0s - loss: 1.9423 - acc: 0.4461\n",
      "Epoch 36/100\n",
      " - 0s - loss: 1.9174 - acc: 0.4236\n",
      "Epoch 37/100\n",
      " - 0s - loss: 1.8496 - acc: 0.4762\n",
      "Epoch 38/100\n",
      " - 0s - loss: 1.8275 - acc: 0.4812\n",
      "Epoch 39/100\n",
      " - 0s - loss: 1.7877 - acc: 0.4862\n",
      "Epoch 40/100\n",
      " - 0s - loss: 1.7318 - acc: 0.5188\n",
      "Epoch 41/100\n",
      " - 0s - loss: 1.7003 - acc: 0.5138\n",
      "Epoch 42/100\n",
      " - 0s - loss: 1.6574 - acc: 0.5564\n",
      "Epoch 43/100\n",
      " - 0s - loss: 1.6113 - acc: 0.5313\n",
      "Epoch 44/100\n",
      " - 0s - loss: 1.5841 - acc: 0.5464\n",
      "Epoch 45/100\n",
      " - 0s - loss: 1.5561 - acc: 0.5714\n",
      "Epoch 46/100\n",
      " - 0s - loss: 1.5052 - acc: 0.5940\n",
      "Epoch 47/100\n",
      " - 0s - loss: 1.5064 - acc: 0.5764\n",
      "Epoch 48/100\n",
      " - 0s - loss: 1.4274 - acc: 0.6341\n",
      "Epoch 49/100\n",
      " - 0s - loss: 1.4084 - acc: 0.6040\n",
      "Epoch 50/100\n",
      " - 0s - loss: 1.3386 - acc: 0.6516\n",
      "Epoch 51/100\n",
      " - 0s - loss: 1.3031 - acc: 0.6642\n",
      "Epoch 52/100\n",
      " - 0s - loss: 1.2703 - acc: 0.7018\n",
      "Epoch 53/100\n",
      " - 0s - loss: 1.2337 - acc: 0.6842\n",
      "Epoch 54/100\n",
      " - 0s - loss: 1.1963 - acc: 0.7118\n",
      "Epoch 55/100\n",
      " - 0s - loss: 1.1534 - acc: 0.7318\n",
      "Epoch 56/100\n",
      " - 0s - loss: 1.1305 - acc: 0.7544\n",
      "Epoch 57/100\n",
      " - 0s - loss: 1.1062 - acc: 0.7243\n",
      "Epoch 58/100\n",
      " - 0s - loss: 1.0457 - acc: 0.7895\n",
      "Epoch 59/100\n",
      " - 0s - loss: 1.0145 - acc: 0.7820\n",
      "Epoch 60/100\n",
      " - 0s - loss: 0.9818 - acc: 0.8020\n",
      "Epoch 61/100\n",
      " - 0s - loss: 0.9667 - acc: 0.7995\n",
      "Epoch 62/100\n",
      " - 0s - loss: 0.9463 - acc: 0.8095\n",
      "Epoch 63/100\n",
      " - 0s - loss: 0.9047 - acc: 0.8321\n",
      "Epoch 64/100\n",
      " - 0s - loss: 0.8662 - acc: 0.8396\n",
      "Epoch 65/100\n",
      " - 0s - loss: 0.8347 - acc: 0.8521\n",
      "Epoch 66/100\n",
      " - 0s - loss: 0.8068 - acc: 0.8722\n",
      "Epoch 67/100\n",
      " - 0s - loss: 0.7710 - acc: 0.8797\n",
      "Epoch 68/100\n",
      " - 0s - loss: 0.7454 - acc: 0.8847\n",
      "Epoch 69/100\n",
      " - 0s - loss: 0.7258 - acc: 0.8897\n",
      "Epoch 70/100\n",
      " - 0s - loss: 0.6995 - acc: 0.8947\n",
      "Epoch 71/100\n",
      " - 0s - loss: 0.6704 - acc: 0.8972\n",
      "Epoch 72/100\n",
      " - 0s - loss: 0.6448 - acc: 0.9223\n",
      "Epoch 73/100\n",
      " - 0s - loss: 0.6329 - acc: 0.9098\n",
      "Epoch 74/100\n",
      " - 0s - loss: 0.6013 - acc: 0.9298\n",
      "Epoch 75/100\n",
      " - 0s - loss: 0.6032 - acc: 0.9248\n",
      "Epoch 76/100\n",
      " - 0s - loss: 0.5758 - acc: 0.9223\n",
      "Epoch 77/100\n",
      " - 0s - loss: 0.5352 - acc: 0.9424\n",
      "Epoch 78/100\n",
      " - 0s - loss: 0.5066 - acc: 0.9524\n",
      "Epoch 79/100\n",
      " - 0s - loss: 0.4927 - acc: 0.9624\n",
      "Epoch 80/100\n",
      " - 0s - loss: 0.4852 - acc: 0.9549\n",
      "Epoch 81/100\n",
      " - 0s - loss: 0.4599 - acc: 0.9649\n",
      "Epoch 82/100\n",
      " - 0s - loss: 0.4372 - acc: 0.9674\n",
      "Epoch 83/100\n",
      " - 0s - loss: 0.4240 - acc: 0.9699\n",
      "Epoch 84/100\n",
      " - 0s - loss: 0.4112 - acc: 0.9749\n",
      "Epoch 85/100\n",
      " - 0s - loss: 0.3903 - acc: 0.9724\n",
      "Epoch 86/100\n",
      " - 0s - loss: 0.3762 - acc: 0.9825\n",
      "Epoch 87/100\n",
      " - 0s - loss: 0.3596 - acc: 0.9875\n",
      "Epoch 88/100\n",
      " - 0s - loss: 0.3397 - acc: 0.9850\n",
      "Epoch 89/100\n",
      " - 0s - loss: 0.3315 - acc: 0.9900\n",
      "Epoch 90/100\n",
      " - 0s - loss: 0.3134 - acc: 0.9875\n",
      "Epoch 91/100\n",
      " - 0s - loss: 0.3046 - acc: 0.9850\n",
      "Epoch 92/100\n",
      " - 0s - loss: 0.2923 - acc: 0.9900\n",
      "Epoch 93/100\n",
      " - 0s - loss: 0.2824 - acc: 0.9875\n",
      "Epoch 94/100\n",
      " - 0s - loss: 0.2710 - acc: 0.9875\n",
      "Epoch 95/100\n",
      " - 0s - loss: 0.2563 - acc: 0.9875\n",
      "Epoch 96/100\n",
      " - 0s - loss: 0.2496 - acc: 0.9900\n",
      "Epoch 97/100\n",
      " - 0s - loss: 0.2397 - acc: 0.9900\n",
      "Epoch 98/100\n",
      " - 0s - loss: 0.2303 - acc: 0.9925\n",
      "Epoch 99/100\n",
      " - 0s - loss: 0.2237 - acc: 0.9925\n",
      "Epoch 100/100\n",
      " - 0s - loss: 0.2156 - acc: 0.9900\n"
     ]
    }
   ],
   "source": [
    "model = define_model(X)\n",
    "# fit model\n",
    "model.fit(X, y, epochs=100, verbose=2)\n",
    "# save the model to file\n",
    "model.save('model.h5')\n",
    "# save the mapping\n",
    "dump(mapping, open('mapping.pkl', 'wb'))"
   ]
  },
  {
   "cell_type": "code",
   "execution_count": 86,
   "metadata": {},
   "outputs": [
    {
     "data": {
      "image/png": "[encoded data removed]",
      "text/plain": [
       "<IPython.core.display.Image object>"
      ]
     },
     "execution_count": 86,
     "metadata": {
      "image/png": {
       "width": 400
      }
     },
     "output_type": "execute_result"
    }
   ],
   "source": [
    "Image(\"img/model.png\",width = 400)"
   ]
  },
  {
   "cell_type": "markdown",
   "metadata": {},
   "source": [
    "### Save model\n"
   ]
  },
  {
   "cell_type": "code",
   "execution_count": 87,
   "metadata": {},
   "outputs": [],
   "source": [
    "model.save('model.h5')\n",
    "# save the mapping\n",
    "dump(mapping, open('mapping.pkl', 'wb'))\n"
   ]
  },
  {
   "cell_type": "markdown",
   "metadata": {},
   "source": [
    "### Generate Text"
   ]
  },
  {
   "cell_type": "code",
   "execution_count": 88,
   "metadata": {},
   "outputs": [],
   "source": [
    "# load the model\n",
    "model = load_model('model.h5')\n",
    "# load the mapping\n",
    "mapping = pickle.load(open('mapping.pkl', 'rb'))"
   ]
  },
  {
   "cell_type": "code",
   "execution_count": 89,
   "metadata": {},
   "outputs": [
    {
     "name": "stdout",
     "output_type": "stream",
     "text": [
      "{'\\n': 0, ' ': 1, \"'\": 2, ',': 3, '.': 4, ';': 5, 'A': 6, 'B': 7, 'C': 8, 'E': 9, 'F': 10, 'H': 11, 'S': 12, 'T': 13, 'W': 14, 'a': 15, 'b': 16, 'c': 17, 'd': 18, 'e': 19, 'f': 20, 'g': 21, 'h': 22, 'i': 23, 'k': 24, 'l': 25, 'm': 26, 'n': 27, 'o': 28, 'p': 29, 'q': 30, 'r': 31, 's': 32, 't': 33, 'u': 34, 'w': 35, 'x': 36, 'y': 37}\n"
     ]
    }
   ],
   "source": [
    "print(mapping)"
   ]
  },
  {
   "cell_type": "code",
   "execution_count": 90,
   "metadata": {},
   "outputs": [],
   "source": [
    "#will predict character after 10th\n",
    "in_text1 = 'sing a son'\n",
    "in_text2 = 'king was i'\n",
    "#random text\n",
    "in_text3 = 'the man wa'"
   ]
  },
  {
   "cell_type": "code",
   "execution_count": 91,
   "metadata": {},
   "outputs": [
    {
     "data": {
      "text/plain": [
       "[32, 23, 27, 21, 1, 15, 1, 32, 28, 27]"
      ]
     },
     "execution_count": 91,
     "metadata": {},
     "output_type": "execute_result"
    }
   ],
   "source": [
    "#using the mapping encode chars as integers\n",
    "encoded = [mapping[char] for char in in_text1]\n",
    "encoded"
   ]
  },
  {
   "cell_type": "code",
   "execution_count": 92,
   "metadata": {},
   "outputs": [
    {
     "data": {
      "text/plain": [
       "array([[32, 23, 27, 21,  1, 15,  1, 32, 28, 27]])"
      ]
     },
     "execution_count": 92,
     "metadata": {},
     "output_type": "execute_result"
    }
   ],
   "source": [
    "seq_length = 10;n_chars= 20\n",
    "#truncate to fixed length\n",
    "encoded = pad_sequences([encoded],maxlen=seq_length,truncating='pre')\n",
    "encoded"
   ]
  },
  {
   "cell_type": "code",
   "execution_count": 93,
   "metadata": {},
   "outputs": [
    {
     "data": {
      "text/plain": [
       "(1, 10, 38)"
      ]
     },
     "execution_count": 93,
     "metadata": {},
     "output_type": "execute_result"
    }
   ],
   "source": [
    "#one hot encode\n",
    "encoded = to_categorical(encoded,num_classes=len(mapping))\n",
    "encoded.shape"
   ]
  },
  {
   "cell_type": "code",
   "execution_count": 94,
   "metadata": {},
   "outputs": [],
   "source": [
    "# generate a sequence of characters with a language model\n",
    "def generate_seq(model, mapping, seq_length, seed_text, n_chars):\n",
    "    in_text = seed_text\n",
    "    # generate a fixed number of characters\n",
    "    for _ in range(n_chars):\n",
    "        # encode the characters as integers\n",
    "        encoded = [mapping[char] for char in in_text]\n",
    "        # truncate sequences to a fixed length\n",
    "        encoded = pad_sequences([encoded], maxlen=seq_length, truncating='pre')\n",
    "        # one hot encode\n",
    "        encoded = to_categorical(encoded, num_classes=len(mapping))\n",
    "        # predict character\n",
    "        yhat = model.predict_classes(encoded, verbose=0)\n",
    "        # reverse map integer to character\n",
    "        out_char = ''\n",
    "        for char, index in mapping.items():\n",
    "            if index == yhat:\n",
    "                out_char = char\n",
    "                break\n",
    "            # append to input\n",
    "        in_text += out_char\n",
    "    return in_text"
   ]
  },
  {
   "cell_type": "code",
   "execution_count": 98,
   "metadata": {},
   "outputs": [
    {
     "name": "stdout",
     "output_type": "stream",
     "text": [
      "Sing a song of sixpence, A poc\n",
      "when the pberofre laaggin ttnt\n",
      "king was in his counting house\n",
      "hello worl, , aeeg ine  oasir \n"
     ]
    }
   ],
   "source": [
    "# test start of rhyme\n",
    "print(generate_seq(model, mapping, 10, 'Sing a son', 20))\n",
    "print(generate_seq(model, mapping, 10, 'when the p', 20))\n",
    "print(generate_seq(model, mapping, 10, 'king was i', 20))\n",
    "# test not in original\n",
    "print(generate_seq(model, mapping, 10, 'hello worl', 20))\n"
   ]
  },
  {
   "cell_type": "markdown",
   "metadata": {},
   "source": [
    "preidcts two out of the three original text corretly, one is not, why is this? further action is required.  New text is nonsense "
   ]
  },
  {
   "cell_type": "code",
   "execution_count": null,
   "metadata": {},
   "outputs": [],
   "source": []
  }
 ],
 "metadata": {
  "kernelspec": {
   "display_name": "Python 3",
   "language": "python",
   "name": "python3"
  },
  "language_info": {
   "codemirror_mode": {
    "name": "ipython",
    "version": 3
   },
   "file_extension": ".py",
   "mimetype": "text/x-python",
   "name": "python",
   "nbconvert_exporter": "python",
   "pygments_lexer": "ipython3",
   "version": "3.6.4"
  }
 },
 "nbformat": 4,
 "nbformat_minor": 2
}

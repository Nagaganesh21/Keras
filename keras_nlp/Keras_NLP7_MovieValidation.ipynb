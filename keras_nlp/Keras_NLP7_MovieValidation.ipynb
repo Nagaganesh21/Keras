{
 "cells": [
  {
   "cell_type": "markdown",
   "metadata": {},
   "source": [
    "## Movie Review Validation\n",
    "\n",
    "This notebook builds on previous work done on the sentiment analysis of movie reviews.  the dataset come from \n",
    "- http://www.cs.cornell.edu/people/pabo/movie-review-data\n",
    "\n",
    "This data consists of unprocessed, unlabeled html files from the IMDb archive of the rec.arts.movies.reviews newsgroup.  \n",
    "\n",
    "This notebook:\n",
    "- Cleans and processes the movie reviews text\n",
    "- takes the processesed negtive and positive movie reviews adds labels (0/1)\n",
    "- tokenizes the reviews and splits into training validation sets\n",
    "- builds a neural network model\n",
    "- compares traing and validation results\n",
    "- applies the model to new test data"
   ]
  },
  {
   "cell_type": "code",
   "execution_count": 291,
   "metadata": {},
   "outputs": [],
   "source": [
    "import string\n",
    "import re\n",
    "from os import listdir\n",
    "from numpy import array\n",
    "from nltk.corpus import stopwords\n",
    "from keras.preprocessing.text import Tokenizer\n",
    "from keras.utils.vis_utils import plot_model\n",
    "from keras.models import Sequential\n",
    "from keras.layers import Dense\n",
    "import random\n",
    "from keras.layers import Dropout\n",
    "from keras import losses\n",
    "from keras import metrics\n",
    "\n",
    "# load doc into memory\n",
    "def load_doc(filename):\n",
    "    # open the file as read only\n",
    "    file = open(filename, 'r')\n",
    "    # read all text\n",
    "    text = file.read()\n",
    "    # close the file\n",
    "    file.close()\n",
    "    return text\n",
    "\n",
    "# turn a doc into clean tokens\n",
    "def clean_doc(doc):\n",
    "    # split into tokens by\n",
    "    tokens = doc.split()\n",
    "    # prepare regex for char filtering\n",
    "    re_punc = re.compile('[%s]' % re.escape(string.punctuation))\n",
    "    # remove punctuation from each word\n",
    "    tokens = [re_punc.sub('', w) for w in tokens]\n",
    "    # remove remaining tokens that are not alphabetic\n",
    "    tokens = [word for word in tokens if word.isalpha()]\n",
    "    # filter out stop words\n",
    "    stop_words = set(stopwords.words('english'))\n",
    "    tokens = [w for w in tokens if not w in stop_words]\n",
    "    # filter out short tokens\n",
    "    tokens = [word for word in tokens if len(word) > 1]\n",
    "    return tokens\n",
    "\n",
    "# load doc, clean and return line of tokens\n",
    "def doc_to_line(filename, vocab):\n",
    "    # load the doc\n",
    "    doc = load_doc(filename)\n",
    "    # clean doc\n",
    "    tokens = clean_doc(doc)\n",
    "    # filter by vocab\n",
    "    tokens = [w for w in tokens if w in vocab]\n",
    "    return ' '.join(tokens)\n",
    "\n",
    "# load all docs in a directory\n",
    "def process_docs(directory, vocab):\n",
    "    lines = list()\n",
    "    # walk through all files in the folder\n",
    "    for filename in listdir(directory):\n",
    "        # create the full path of the file to open\n",
    "        path = directory + '/' + filename\n",
    "        # load and clean the doc\n",
    "        line = doc_to_line(path, vocab)\n",
    "        # add to list\n",
    "        lines.append(line)\n",
    "    return lines\n",
    "\n",
    "# load and clean a dataset\n",
    "def load_clean_dataset(vocab):\n",
    "    neg_array = []\n",
    "    pos_array = []    \n",
    "    # load documents\n",
    "    neg = process_docs('data/txt_sentoken/neg', vocab)\n",
    "    pos = process_docs('data/txt_sentoken/pos', vocab)\n",
    "    \n",
    "    #make seperate lists for neg and pos with associated labels\n",
    "\n",
    "    neg_array = [(review,0) for review in neg]\n",
    "    pos_array = [(review,1) for review in pos]\n",
    "        \n",
    "    return neg_array,pos_array"
   ]
  },
  {
   "cell_type": "code",
   "execution_count": 292,
   "metadata": {},
   "outputs": [],
   "source": [
    "# load the vocabulary\n",
    "vocab_filename = 'vocab.txt'\n",
    "vocab = load_doc(vocab_filename)\n",
    "vocab = set(vocab.split())"
   ]
  },
  {
   "cell_type": "code",
   "execution_count": 293,
   "metadata": {},
   "outputs": [],
   "source": [
    "#get lists of neg and pos reviews\n",
    "neg,pos = load_clean_dataset(vocab)"
   ]
  },
  {
   "cell_type": "code",
   "execution_count": 294,
   "metadata": {},
   "outputs": [],
   "source": [
    "#combine the reviews then randomly shuffle \n",
    "neg_pos_reviews = neg+pos\n",
    "random.shuffle(neg_pos_reviews)"
   ]
  },
  {
   "cell_type": "code",
   "execution_count": 295,
   "metadata": {},
   "outputs": [],
   "source": [
    "#seperate out the matching reviews and labels\n",
    "x_train = []\n",
    "y_train = []\n",
    "for review,label in neg_pos_reviews:\n",
    "    x_train.append(review)\n",
    "    y_train.append(label)"
   ]
  },
  {
   "cell_type": "markdown",
   "metadata": {},
   "source": [
    "At this point we have the reviews and and matching labels"
   ]
  },
  {
   "cell_type": "code",
   "execution_count": 296,
   "metadata": {},
   "outputs": [],
   "source": [
    "# fit a tokenizer\n",
    "def create_tokenizer(lines):\n",
    "    tokenizer = Tokenizer()\n",
    "    tokenizer.fit_on_texts(lines)\n",
    "    return tokenizer"
   ]
  },
  {
   "cell_type": "code",
   "execution_count": 297,
   "metadata": {},
   "outputs": [],
   "source": [
    "tokenizer = create_tokenizer(x_train)"
   ]
  },
  {
   "cell_type": "code",
   "execution_count": 298,
   "metadata": {},
   "outputs": [],
   "source": [
    "#split into train and validation sets\n",
    "Xtrain = x_train[:1500]\n",
    "Xval = x_train[1500:]\n",
    "\n",
    "ytrain = y_train[:1500]\n",
    "yval = y_train[1500:]"
   ]
  },
  {
   "cell_type": "code",
   "execution_count": 299,
   "metadata": {},
   "outputs": [],
   "source": [
    "# encode data into integer values\n",
    "Xtrain = tokenizer.texts_to_matrix(Xtrain, mode='binary')\n",
    "Xval = tokenizer.texts_to_matrix(Xval, mode='binary')"
   ]
  },
  {
   "cell_type": "markdown",
   "metadata": {},
   "source": [
    "Different model parameters were tried all giving simlar results"
   ]
  },
  {
   "cell_type": "code",
   "execution_count": 300,
   "metadata": {},
   "outputs": [],
   "source": [
    "# define the model\n",
    "def define_model(n_words):\n",
    "    # define network\n",
    "    model = Sequential()\n",
    "    model.add(Dense(16, input_shape=(n_words,), activation='relu'))\n",
    "    model.add(Dense(8, activation='relu'))\n",
    "    model.add(Dense(1, activation='sigmoid'))\n",
    "    # compile network\n",
    "    model.compile(loss='binary_crossentropy', optimizer='rmsprop', metrics=['accuracy'])\n",
    "    # summarize defined model\n",
    "    model.summary()\n",
    "    #plot_model(model, to_file='model.png', show_shapes=True)\n",
    "    return model"
   ]
  },
  {
   "cell_type": "code",
   "execution_count": 301,
   "metadata": {},
   "outputs": [
    {
     "name": "stdout",
     "output_type": "stream",
     "text": [
      "_________________________________________________________________\n",
      "Layer (type)                 Output Shape              Param #   \n",
      "=================================================================\n",
      "dense_57 (Dense)             (None, 16)                236880    \n",
      "_________________________________________________________________\n",
      "dense_58 (Dense)             (None, 8)                 136       \n",
      "_________________________________________________________________\n",
      "dense_59 (Dense)             (None, 1)                 9         \n",
      "=================================================================\n",
      "Total params: 237,025\n",
      "Trainable params: 237,025\n",
      "Non-trainable params: 0\n",
      "_________________________________________________________________\n"
     ]
    }
   ],
   "source": [
    "# define network\n",
    "n_words = Xtrain.shape[1]\n",
    "model = define_model(n_words)"
   ]
  },
  {
   "cell_type": "code",
   "execution_count": 302,
   "metadata": {},
   "outputs": [
    {
     "name": "stdout",
     "output_type": "stream",
     "text": [
      "Train on 1500 samples, validate on 500 samples\n",
      "Epoch 1/10\n",
      "1500/1500 [==============================] - 1s 536us/step - loss: 0.5433 - acc: 0.7393 - val_loss: 0.3969 - val_acc: 0.8420\n",
      "Epoch 2/10\n",
      "1500/1500 [==============================] - 0s 280us/step - loss: 0.1892 - acc: 0.9667 - val_loss: 0.3246 - val_acc: 0.8760\n",
      "Epoch 3/10\n",
      "1500/1500 [==============================] - 0s 253us/step - loss: 0.0530 - acc: 0.9980 - val_loss: 0.2928 - val_acc: 0.8820\n",
      "Epoch 4/10\n",
      "1500/1500 [==============================] - 0s 254us/step - loss: 0.0137 - acc: 1.0000 - val_loss: 0.3196 - val_acc: 0.8760\n",
      "Epoch 5/10\n",
      "1500/1500 [==============================] - 0s 259us/step - loss: 0.0035 - acc: 1.0000 - val_loss: 0.3609 - val_acc: 0.8780\n",
      "Epoch 6/10\n",
      "1500/1500 [==============================] - 0s 243us/step - loss: 9.8137e-04 - acc: 1.0000 - val_loss: 0.4123 - val_acc: 0.8760\n",
      "Epoch 7/10\n",
      "1500/1500 [==============================] - 0s 266us/step - loss: 3.3191e-04 - acc: 1.0000 - val_loss: 0.4722 - val_acc: 0.8760\n",
      "Epoch 8/10\n",
      "1500/1500 [==============================] - 0s 253us/step - loss: 1.9183e-04 - acc: 1.0000 - val_loss: 0.5280 - val_acc: 0.8720\n",
      "Epoch 9/10\n",
      "1500/1500 [==============================] - 0s 258us/step - loss: 1.3988e-04 - acc: 1.0000 - val_loss: 0.5622 - val_acc: 0.8720\n",
      "Epoch 10/10\n",
      "1500/1500 [==============================] - 0s 261us/step - loss: 1.1267e-04 - acc: 1.0000 - val_loss: 0.5954 - val_acc: 0.8720\n"
     ]
    },
    {
     "data": {
      "text/plain": [
       "<keras.callbacks.History at 0x1d4945a5e48>"
      ]
     },
     "execution_count": 302,
     "metadata": {},
     "output_type": "execute_result"
    }
   ],
   "source": [
    "history = model.fit(Xtrain,ytrain,epochs=10,validation_data = (Xval,yval),verbose=1)\n",
    "model.fit(Xtrain,ytrain,epochs=20,validation_data = (Xval,yval),verbose=0)"
   ]
  },
  {
   "cell_type": "code",
   "execution_count": 303,
   "metadata": {},
   "outputs": [
    {
     "data": {
      "text/plain": [
       "dict_keys(['val_loss', 'val_acc', 'loss', 'acc'])"
      ]
     },
     "execution_count": 303,
     "metadata": {},
     "output_type": "execute_result"
    }
   ],
   "source": [
    "history_dict = history.history\n",
    "history_dict.keys()"
   ]
  },
  {
   "cell_type": "code",
   "execution_count": 304,
   "metadata": {},
   "outputs": [
    {
     "data": {
      "image/png": "[encoded data removed]",
      "text/plain": [
       "<Figure size 432x288 with 1 Axes>"
      ]
     },
     "metadata": {},
     "output_type": "display_data"
    }
   ],
   "source": [
    "import matplotlib.pyplot as plt\n",
    "\n",
    "acc = history.history['acc']\n",
    "val_acc = history.history['val_acc']\n",
    "loss = history.history['loss']\n",
    "val_loss = history.history['val_loss']\n",
    "\n",
    "epochs = range(1, len(acc) + 1)\n",
    "\n",
    "# \"bo\" is for \"blue dot\"\n",
    "plt.plot(epochs, loss, 'bo', label='Training loss')\n",
    "# b is for \"solid blue line\"\n",
    "plt.plot(epochs, val_loss, 'b', label='Validation loss')\n",
    "plt.title('Training and validation loss')\n",
    "plt.xlabel('Epochs')\n",
    "plt.ylabel('Loss')\n",
    "plt.legend()\n",
    "plt.show()"
   ]
  },
  {
   "cell_type": "code",
   "execution_count": 305,
   "metadata": {},
   "outputs": [
    {
     "data": {
      "image/png": "[encoded data removed]",
      "text/plain": [
       "<Figure size 432x288 with 1 Axes>"
      ]
     },
     "metadata": {},
     "output_type": "display_data"
    }
   ],
   "source": [
    "plt.clf()\n",
    "acc_values = history_dict['acc']\n",
    "val_acc_values = history_dict['val_acc']\n",
    "plt.plot(epochs, acc, 'bo', label='Training acc')\n",
    "plt.plot(epochs, val_acc, 'b', label='Validation acc')\n",
    "plt.title('Training and validation accuracy')\n",
    "plt.xlabel('Epochs')\n",
    "plt.ylabel('Loss')\n",
    "plt.legend()\n",
    "plt.show()"
   ]
  },
  {
   "cell_type": "markdown",
   "metadata": {},
   "source": [
    "The training loss decreases with every epoch and the training accuracy increases with evry epoch - this should be expected as running gradient descent optimisation.  But validation loss and accuracy peak very early - overfitting."
   ]
  },
  {
   "cell_type": "code",
   "execution_count": 306,
   "metadata": {},
   "outputs": [],
   "source": [
    "# classify a review as negative or positive\n",
    "def predict_sentiment(review, vocab, tokenizer, model):\n",
    "    # clean\n",
    "    tokens = clean_doc(review)\n",
    "    # filter by vocab\n",
    "    tokens = [w for w in tokens if w in vocab]\n",
    "    # convert to line\n",
    "    line = ' '.join(tokens)\n",
    "    # encode\n",
    "    encoded = tokenizer.texts_to_matrix([line], mode='binary')\n",
    "    # predict sentiment\n",
    "    yhat = model.predict(encoded, verbose=0)\n",
    "    # retrieve predicted percentage and label\n",
    "    percent_pos = yhat[0,0]\n",
    "    if round(percent_pos) == 0:\n",
    "        return (1-percent_pos), 'NEGATIVE'\n",
    "    return percent_pos, 'POSITIVE'"
   ]
  },
  {
   "cell_type": "code",
   "execution_count": 307,
   "metadata": {},
   "outputs": [
    {
     "name": "stdout",
     "output_type": "stream",
     "text": [
      "Review: [Best movie ever! It was great, I recommend it.]\n",
      "Sentiment: POSITIVE (52.849%)\n",
      "\n",
      "\n",
      "Review: [This is a bad movie.]\n",
      "Sentiment: NEGATIVE (85.666%)\n",
      "\n",
      "\n",
      "Review: [I thought this movie was ok]\n",
      "Sentiment: NEGATIVE (66.672%)\n",
      "\n",
      "\n",
      "Review: [It was the worst movie I have ever seen, what a load of rubbish]\n",
      "Sentiment: NEGATIVE (92.841%)\n",
      "\n",
      "\n",
      "Review: [Really good movie! I loved it]\n",
      "Sentiment: POSITIVE (67.818%)\n",
      "\n",
      "\n"
     ]
    }
   ],
   "source": [
    "# test positive text\\\\\n",
    "reviews =['Best movie ever! It was great, I recommend it.','This is a bad movie.','I thought this movie was ok',\n",
    "'It was the worst movie I have ever seen, what a load of rubbish','Really good movie! I loved it']\n",
    "\n",
    "for review in reviews:\n",
    "    percent, sentiment = predict_sentiment(review, vocab, tokenizer, model)\n",
    "    print('Review: [%s]\\nSentiment: %s (%.3f%%)' % (review, sentiment, percent*100))\n",
    "    print('\\n')\n"
   ]
  },
  {
   "cell_type": "markdown",
   "metadata": {},
   "source": [
    "## Dropout\n",
    "Dropout is a regularization technique for neural network models. Dropout is a technique where randomly selected neurons are ignored during training. They are dropped-out randomly.  Is a form of regularisation - may help with overfitting\n",
    "\n",
    "First try Dropout on visible layer"
   ]
  },
  {
   "cell_type": "code",
   "execution_count": 308,
   "metadata": {},
   "outputs": [
    {
     "name": "stdout",
     "output_type": "stream",
     "text": [
      "_________________________________________________________________\n",
      "Layer (type)                 Output Shape              Param #   \n",
      "=================================================================\n",
      "dropout_4 (Dropout)          (None, 14804)             0         \n",
      "_________________________________________________________________\n",
      "dense_60 (Dense)             (None, 16)                236880    \n",
      "_________________________________________________________________\n",
      "dense_61 (Dense)             (None, 8)                 136       \n",
      "_________________________________________________________________\n",
      "dense_62 (Dense)             (None, 1)                 9         \n",
      "=================================================================\n",
      "Total params: 237,025\n",
      "Trainable params: 237,025\n",
      "Non-trainable params: 0\n",
      "_________________________________________________________________\n",
      "Train on 1500 samples, validate on 500 samples\n",
      "Epoch 1/10\n",
      "1500/1500 [==============================] - 1s 557us/step - loss: 0.5789 - acc: 0.7180 - val_loss: 0.4331 - val_acc: 0.8460\n",
      "Epoch 2/10\n",
      "1500/1500 [==============================] - 0s 269us/step - loss: 0.2360 - acc: 0.9460 - val_loss: 0.3415 - val_acc: 0.8720\n",
      "Epoch 3/10\n",
      "1500/1500 [==============================] - 0s 257us/step - loss: 0.0934 - acc: 0.9867 - val_loss: 0.3154 - val_acc: 0.8700\n",
      "Epoch 4/10\n",
      "1500/1500 [==============================] - 0s 264us/step - loss: 0.0359 - acc: 0.9967 - val_loss: 0.3335 - val_acc: 0.8780\n",
      "Epoch 5/10\n",
      "1500/1500 [==============================] - 0s 256us/step - loss: 0.0125 - acc: 1.0000 - val_loss: 0.3383 - val_acc: 0.8880\n",
      "Epoch 6/10\n",
      "1500/1500 [==============================] - 0s 250us/step - loss: 0.0066 - acc: 0.9993 - val_loss: 0.3710 - val_acc: 0.8780\n",
      "Epoch 7/10\n",
      "1500/1500 [==============================] - 0s 254us/step - loss: 0.0025 - acc: 1.0000 - val_loss: 0.4039 - val_acc: 0.8760\n",
      "Epoch 8/10\n",
      "1500/1500 [==============================] - 0s 253us/step - loss: 0.0013 - acc: 1.0000 - val_loss: 0.4494 - val_acc: 0.8740\n",
      "Epoch 9/10\n",
      "1500/1500 [==============================] - 0s 271us/step - loss: 6.8770e-04 - acc: 1.0000 - val_loss: 0.4626 - val_acc: 0.8760\n",
      "Epoch 10/10\n",
      "1500/1500 [==============================] - 0s 273us/step - loss: 2.8825e-04 - acc: 1.0000 - val_loss: 0.5094 - val_acc: 0.8720\n"
     ]
    },
    {
     "data": {
      "image/png": "[encoded data removed]",
      "text/plain": [
       "<Figure size 432x288 with 1 Axes>"
      ]
     },
     "metadata": {},
     "output_type": "display_data"
    }
   ],
   "source": [
    "# define the model\n",
    "def define_model(n_words):\n",
    "    # define network\n",
    "    model = Sequential()\n",
    "    model.add(Dropout(0.2, input_shape=(n_words,)))\n",
    "    model.add(Dense(16, activation='relu'))\n",
    "    model.add(Dense(8, activation='relu'))\n",
    "    model.add(Dense(1, activation='sigmoid'))\n",
    "    # compile network\n",
    "    model.compile(loss='binary_crossentropy', optimizer='rmsprop', metrics=['accuracy'])\n",
    "    # summarize defined model\n",
    "    model.summary()\n",
    "    #plot_model(model, to_file='model.png', show_shapes=True)\n",
    "    return model\n",
    "\n",
    "# define network\n",
    "n_words = Xtrain.shape[1]\n",
    "model = define_model(n_words)\n",
    "\n",
    "#fit the model\n",
    "history = model.fit(Xtrain,ytrain,epochs=10,validation_data = (Xval,yval),verbose=1)\n",
    "\n",
    "acc = history.history['acc']\n",
    "val_acc = history.history['val_acc']\n",
    "loss = history.history['loss']\n",
    "val_loss = history.history['val_loss']\n",
    "epochs = range(1, len(acc) + 1)\n",
    "# \"bo\" is for \"blue dot\"\n",
    "plt.plot(epochs, loss, 'bo', label='Training loss')\n",
    "# b is for \"solid blue line\"\n",
    "plt.plot(epochs, val_loss, 'b', label='Validation loss')\n",
    "plt.title('Training and validation loss')\n",
    "plt.xlabel('Epochs')\n",
    "plt.ylabel('Loss')\n",
    "plt.legend()\n",
    "plt.show()"
   ]
  },
  {
   "cell_type": "code",
   "execution_count": 309,
   "metadata": {},
   "outputs": [
    {
     "data": {
      "image/png": "[encoded data removed]",
      "text/plain": [
       "<Figure size 432x288 with 1 Axes>"
      ]
     },
     "metadata": {},
     "output_type": "display_data"
    }
   ],
   "source": [
    "plt.clf()\n",
    "acc_values = history_dict['acc']\n",
    "val_acc_values = history_dict['val_acc']\n",
    "plt.plot(epochs, acc, 'bo', label='Training acc')\n",
    "plt.plot(epochs, val_acc, 'b', label='Validation acc')\n",
    "plt.title('Training and validation accuracy')\n",
    "plt.xlabel('Epochs')\n",
    "plt.ylabel('Loss')\n",
    "plt.legend()\n",
    "plt.show()"
   ]
  },
  {
   "cell_type": "markdown",
   "metadata": {},
   "source": [
    "## Dropout on hidden layers"
   ]
  },
  {
   "cell_type": "code",
   "execution_count": 310,
   "metadata": {},
   "outputs": [
    {
     "name": "stdout",
     "output_type": "stream",
     "text": [
      "_________________________________________________________________\n",
      "Layer (type)                 Output Shape              Param #   \n",
      "=================================================================\n",
      "dense_63 (Dense)             (None, 16)                236880    \n",
      "_________________________________________________________________\n",
      "dropout_5 (Dropout)          (None, 16)                0         \n",
      "_________________________________________________________________\n",
      "dense_64 (Dense)             (None, 8)                 136       \n",
      "_________________________________________________________________\n",
      "dense_65 (Dense)             (None, 1)                 9         \n",
      "=================================================================\n",
      "Total params: 237,025\n",
      "Trainable params: 237,025\n",
      "Non-trainable params: 0\n",
      "_________________________________________________________________\n",
      "Train on 1500 samples, validate on 500 samples\n",
      "Epoch 1/10\n",
      "1500/1500 [==============================] - 1s 567us/step - loss: 0.5743 - acc: 0.7233 - val_loss: 0.4381 - val_acc: 0.8620\n",
      "Epoch 2/10\n",
      "1500/1500 [==============================] - 0s 261us/step - loss: 0.2520 - acc: 0.9433 - val_loss: 0.3259 - val_acc: 0.8820\n",
      "Epoch 3/10\n",
      "1500/1500 [==============================] - 0s 256us/step - loss: 0.1150 - acc: 0.9833 - val_loss: 0.3062 - val_acc: 0.8680\n",
      "Epoch 4/10\n",
      "1500/1500 [==============================] - 0s 267us/step - loss: 0.0501 - acc: 0.9973 - val_loss: 0.3019 - val_acc: 0.8740\n",
      "Epoch 5/10\n",
      "1500/1500 [==============================] - 0s 288us/step - loss: 0.0231 - acc: 0.9973 - val_loss: 0.3228 - val_acc: 0.8860\n",
      "Epoch 6/10\n",
      "1500/1500 [==============================] - 0s 313us/step - loss: 0.0148 - acc: 0.9960 - val_loss: 0.3401 - val_acc: 0.9000\n",
      "Epoch 7/10\n",
      "1500/1500 [==============================] - 0s 268us/step - loss: 0.0064 - acc: 1.0000 - val_loss: 0.3848 - val_acc: 0.8820\n",
      "Epoch 8/10\n",
      "1500/1500 [==============================] - 0s 277us/step - loss: 0.0039 - acc: 0.9993 - val_loss: 0.4182 - val_acc: 0.8920\n",
      "Epoch 9/10\n",
      "1500/1500 [==============================] - 0s 255us/step - loss: 0.0029 - acc: 0.9987 - val_loss: 0.5027 - val_acc: 0.8700\n",
      "Epoch 10/10\n",
      "1500/1500 [==============================] - 0s 277us/step - loss: 0.0011 - acc: 1.0000 - val_loss: 0.5289 - val_acc: 0.8680\n"
     ]
    },
    {
     "data": {
      "image/png": "[encoded data removed]",
      "text/plain": [
       "<Figure size 432x288 with 1 Axes>"
      ]
     },
     "metadata": {},
     "output_type": "display_data"
    },
    {
     "data": {
      "image/png": "[encoded data removed]",
      "text/plain": [
       "<Figure size 432x288 with 1 Axes>"
      ]
     },
     "metadata": {},
     "output_type": "display_data"
    }
   ],
   "source": [
    "# define the model\n",
    "def define_model(n_words):\n",
    "    # define network\n",
    "    model = Sequential()\n",
    "    model.add(Dense(16, input_shape=(n_words,), activation='relu'))\n",
    "    model.add(Dropout(0.2))\n",
    "    model.add(Dense(8, activation='relu'))\n",
    "    model.add(Dense(1, activation='sigmoid'))\n",
    "    # compile network\n",
    "    model.compile(loss='binary_crossentropy', optimizer='rmsprop', metrics=['accuracy'])\n",
    "    # summarize defined model\n",
    "    model.summary()\n",
    "    #plot_model(model, to_file='model.png', show_shapes=True)\n",
    "    return model\n",
    "\n",
    "# define network\n",
    "n_words = Xtrain.shape[1]\n",
    "model = define_model(n_words)\n",
    "\n",
    "#fit the model\n",
    "history = model.fit(Xtrain,ytrain,epochs=10,validation_data = (Xval,yval),verbose=1)\n",
    "\n",
    "acc = history.history['acc']\n",
    "val_acc = history.history['val_acc']\n",
    "loss = history.history['loss']\n",
    "val_loss = history.history['val_loss']\n",
    "epochs = range(1, len(acc) + 1)\n",
    "# \"bo\" is for \"blue dot\"\n",
    "plt.plot(epochs, loss, 'bo', label='Training loss')\n",
    "# b is for \"solid blue line\"\n",
    "plt.plot(epochs, val_loss, 'b', label='Validation loss')\n",
    "plt.title('Training and validation loss')\n",
    "plt.xlabel('Epochs')\n",
    "plt.ylabel('Loss')\n",
    "plt.legend()\n",
    "plt.show()\n",
    "\n",
    "plt.clf()\n",
    "acc_values = history_dict['acc']\n",
    "val_acc_values = history_dict['val_acc']\n",
    "plt.plot(epochs, acc, 'bo', label='Training acc')\n",
    "plt.plot(epochs, val_acc, 'b', label='Validation acc')\n",
    "plt.title('Training and validation accuracy')\n",
    "plt.xlabel('Epochs')\n",
    "plt.ylabel('Loss')\n",
    "plt.legend()\n",
    "plt.show()"
   ]
  },
  {
   "cell_type": "markdown",
   "metadata": {},
   "source": [
    "Trying with some new test data"
   ]
  },
  {
   "cell_type": "code",
   "execution_count": 311,
   "metadata": {},
   "outputs": [
    {
     "name": "stdout",
     "output_type": "stream",
     "text": [
      "Review: [Best movie ever! It was great, I recommend it.]\n",
      "Sentiment: POSITIVE (71.019%)\n",
      "\n",
      "\n",
      "Review: [This is a bad movie.]\n",
      "Sentiment: NEGATIVE (59.114%)\n",
      "\n",
      "\n",
      "Review: [I thought this movie was ok]\n",
      "Sentiment: POSITIVE (53.689%)\n",
      "\n",
      "\n",
      "Review: [It was the worst movie I have ever seen, what a load of rubbish]\n",
      "Sentiment: NEGATIVE (75.554%)\n",
      "\n",
      "\n",
      "Review: [Really good movie! I loved it]\n",
      "Sentiment: POSITIVE (73.443%)\n",
      "\n",
      "\n"
     ]
    }
   ],
   "source": [
    "# test positive text\\\\\n",
    "reviews =['Best movie ever! It was great, I recommend it.','This is a bad movie.','I thought this movie was ok',\n",
    "'It was the worst movie I have ever seen, what a load of rubbish','Really good movie! I loved it']\n",
    "\n",
    "for review in reviews:\n",
    "    percent, sentiment = predict_sentiment(review, vocab, tokenizer, model)\n",
    "    print('Review: [%s]\\nSentiment: %s (%.3f%%)' % (review, sentiment, percent*100))\n",
    "    print('\\n')\n"
   ]
  },
  {
   "cell_type": "code",
   "execution_count": null,
   "metadata": {},
   "outputs": [],
   "source": []
  }
 ],
 "metadata": {
  "kernelspec": {
   "display_name": "Python 3",
   "language": "python",
   "name": "python3"
  },
  "language_info": {
   "codemirror_mode": {
    "name": "ipython",
    "version": 3
   },
   "file_extension": ".py",
   "mimetype": "text/x-python",
   "name": "python",
   "nbconvert_exporter": "python",
   "pygments_lexer": "ipython3",
   "version": "3.6.4"
  }
 },
 "nbformat": 4,
 "nbformat_minor": 2
}
